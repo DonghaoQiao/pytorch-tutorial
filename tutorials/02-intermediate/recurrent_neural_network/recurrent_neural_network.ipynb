{
 "cells": [
  {
   "cell_type": "markdown",
   "metadata": {},
   "source": [
    "![Pytorch](../../../pytorch_logo_2018.svg)"
   ]
  },
  {
   "cell_type": "markdown",
   "metadata": {},
   "source": [
    "# Pytorch 中级篇（3）：循环神经网络（Recurrent Neural Network）\n",
    "\n",
    ">参考代码\n",
    ">\n",
    ">**yunjey的 [pytorch tutorial系列](https://github.com/yunjey/pytorch-tutorial/blob/master/tutorials/02-intermediate/recurrent_neural_network/main.py)**"
   ]
  },
  {
   "attachments": {},
   "cell_type": "markdown",
   "metadata": {},
   "source": [
    "## 循环神经网络 学习资源\n",
    "\n",
    "一直以为，循环神经网络使用在语音处理上的，跟我这个研究计算机视觉的没有多大关系，所以一直都回避RNN。\n",
    "\n",
    "这里居然有RNN对MINIST数据的网络实现，那就顺带把RNN给学了。\n",
    "\n",
    "RNN结合CNN可以用于描述照片，正好能跟计算机视觉结合起来。\n",
    "\n",
    "\n",
    ">**介绍视频（没有原理）**\n",
    ">\n",
    ">[什么是循环神经网络 RNN (深度学习)? What is Recurrent Neural Networks (deep learning)?](https://www.youtube.com/watch?v=EEtf4kNsk7Q)\n",
    "\n",
    ">**相关网页**\n",
    ">\n",
    ">[(新手向)能否简单易懂的介绍一下RNN(循环神经网络)？](https://www.zhihu.com/question/68552209)\n",
    ">\n",
    ">[一文搞懂RNN（循环神经网络）基础篇](https://zhuanlan.zhihu.com/p/30844905).\n",
    ">\n",
    ">[【译】 理解 LSTM 网络](https://www.jianshu.com/p/9dc9f41f0b29)\n",
    "\n",
    "当然这些都是基础版本的RNN，RNN的魅力在于它的各种变化版本能用来解决各种不同形式的问题。\n",
    "\n",
    "[【图片来源】循环神经网络RNN打开手册](https://zhuanlan.zhihu.com/p/22930328)\n",
    "![RNN的形式](https://pic1.zhimg.com/80/v2-6522f0e0cd9740f45e1ee46591898081_hd.jpg)\n"
   ]
  },
  {
   "cell_type": "markdown",
   "metadata": {},
   "source": [
    "## Pytorch实现\n",
    "\n",
    "**many to one 的形式解决MINIST数据集 手写数字分类问题。**"
   ]
  },
  {
   "cell_type": "code",
   "execution_count": 3,
   "metadata": {},
   "outputs": [],
   "source": [
    "# 包\n",
    "import torch \n",
    "import torch.nn as nn\n",
    "import torchvision\n",
    "import torchvision.transforms as transforms"
   ]
  },
  {
   "cell_type": "code",
   "execution_count": 4,
   "metadata": {},
   "outputs": [],
   "source": [
    "# 设备配置\n",
    "# Device configuration\n",
    "torch.cuda.set_device(1) # 这句用来设置pytorch在哪块GPU上运行\n",
    "device = torch.device('cuda' if torch.cuda.is_available() else 'cpu')"
   ]
  },
  {
   "cell_type": "code",
   "execution_count": 5,
   "metadata": {},
   "outputs": [],
   "source": [
    "# 超参数设置\n",
    "# Hyper-parameters\n",
    "sequence_length = 28\n",
    "input_size = 28\n",
    "hidden_size = 128\n",
    "num_layers = 2\n",
    "num_classes = 10\n",
    "batch_size = 100\n",
    "num_epochs = 2\n",
    "learning_rate = 0.01"
   ]
  },
  {
   "cell_type": "markdown",
   "metadata": {},
   "source": [
    "### MINIST 数据集"
   ]
  },
  {
   "cell_type": "code",
   "execution_count": 7,
   "metadata": {},
   "outputs": [],
   "source": [
    "# 训练数据\n",
    "train_dataset = torchvision.datasets.MNIST(root='../../../data/minist/',\n",
    "                                           train=True, \n",
    "                                           transform=transforms.ToTensor(),\n",
    "                                           download=True)\n",
    "\n",
    "# 测试数据\n",
    "test_dataset = torchvision.datasets.MNIST(root='../../../data/minist/',\n",
    "                                          train=False, \n",
    "                                          transform=transforms.ToTensor())\n",
    "\n",
    "# 训练数据加载器\n",
    "train_loader = torch.utils.data.DataLoader(dataset=train_dataset,\n",
    "                                           batch_size=batch_size, \n",
    "                                           shuffle=True)\n",
    "\n",
    "# 测试数据加载器\n",
    "test_loader = torch.utils.data.DataLoader(dataset=test_dataset,\n",
    "                                          batch_size=batch_size, \n",
    "                                          shuffle=False)"
   ]
  },
  {
   "cell_type": "markdown",
   "metadata": {},
   "source": [
    "### 循环神经网络搭建"
   ]
  },
  {
   "cell_type": "code",
   "execution_count": 9,
   "metadata": {},
   "outputs": [],
   "source": [
    "class RNN(nn.Module):\n",
    "    def __init__(self, input_size, hidden_size, num_layers, num_classes):\n",
    "        super(RNN, self).__init__()\n",
    "        self.hidden_size = hidden_size\n",
    "        self.num_layers = num_layers\n",
    "        self.lstm = nn.LSTM(input_size, hidden_size, num_layers, batch_first=True) # 选用LSTM RNN结构\n",
    "        self.fc = nn.Linear(hidden_size, num_classes) # 最后一层为全连接层，将隐状态转为分类\n",
    "    \n",
    "    def forward(self, x):\n",
    "        # 初始化隐层状态和细胞状态\n",
    "        h0 = torch.zeros(self.num_layers, x.size(0), self.hidden_size).to(device) \n",
    "        c0 = torch.zeros(self.num_layers, x.size(0), self.hidden_size).to(device)\n",
    "        \n",
    "        # 前向传播LSTM\n",
    "        out, _ = self.lstm(x, (h0, c0))  # 输出大小 (batch_size, seq_length, hidden_size)\n",
    "        \n",
    "        # 解码最后一个时刻的隐状态\n",
    "        out = self.fc(out[:, -1, :])\n",
    "        return out"
   ]
  },
  {
   "cell_type": "code",
   "execution_count": 10,
   "metadata": {},
   "outputs": [],
   "source": [
    "# 实例化一个模型\n",
    "# 注意输入维度，虽然我不懂将一幅图28x28拆成28个大小为28的序列有啥意义\n",
    "model = RNN(input_size, hidden_size, num_layers, num_classes).to(device)\n",
    "\n",
    "# 定义损失函数和优化器\n",
    "# Adam: A Method for Stochastic Optimization\n",
    "criterion = nn.CrossEntropyLoss()\n",
    "optimizer = torch.optim.Adam(model.parameters(), lr=learning_rate)"
   ]
  },
  {
   "cell_type": "markdown",
   "metadata": {},
   "source": [
    "### 训练模型"
   ]
  },
  {
   "cell_type": "code",
   "execution_count": 11,
   "metadata": {},
   "outputs": [
    {
     "name": "stdout",
     "output_type": "stream",
     "text": [
      "Epoch [1/2], Step [100/600], Loss: 0.4569\n",
      "Epoch [1/2], Step [200/600], Loss: 0.2823\n",
      "Epoch [1/2], Step [300/600], Loss: 0.3512\n",
      "Epoch [1/2], Step [400/600], Loss: 0.1702\n",
      "Epoch [1/2], Step [500/600], Loss: 0.3181\n",
      "Epoch [1/2], Step [600/600], Loss: 0.1821\n",
      "Epoch [2/2], Step [100/600], Loss: 0.1540\n",
      "Epoch [2/2], Step [200/600], Loss: 0.0848\n",
      "Epoch [2/2], Step [300/600], Loss: 0.1985\n",
      "Epoch [2/2], Step [400/600], Loss: 0.1537\n",
      "Epoch [2/2], Step [500/600], Loss: 0.0988\n",
      "Epoch [2/2], Step [600/600], Loss: 0.0315\n"
     ]
    }
   ],
   "source": [
    "total_step = len(train_loader)\n",
    "for epoch in range(num_epochs):\n",
    "    for i, (images, labels) in enumerate(train_loader):\n",
    "        images = images.reshape(-1, sequence_length, input_size).to(device) # 注意维度\n",
    "        labels = labels.to(device)\n",
    "        \n",
    "        # 前向传播\n",
    "        outputs = model(images)\n",
    "        loss = criterion(outputs, labels)\n",
    "        \n",
    "        # 反向传播和优化，注意梯度每次清零\n",
    "        optimizer.zero_grad()\n",
    "        loss.backward()\n",
    "        optimizer.step()\n",
    "        \n",
    "        if (i+1) % 100 == 0:\n",
    "            print ('Epoch [{}/{}], Step [{}/{}], Loss: {:.4f}' \n",
    "                   .format(epoch+1, num_epochs, i+1, total_step, loss.item()))"
   ]
  },
  {
   "cell_type": "markdown",
   "metadata": {},
   "source": [
    "### 测试模型并保存"
   ]
  },
  {
   "cell_type": "code",
   "execution_count": 14,
   "metadata": {},
   "outputs": [
    {
     "name": "stdout",
     "output_type": "stream",
     "text": [
      "Test Accuracy of the model on the 10000 test images: 97.47 %\n"
     ]
    }
   ],
   "source": [
    "# 测试集\n",
    "with torch.no_grad():\n",
    "    correct = 0\n",
    "    total = 0\n",
    "    for images, labels in test_loader:\n",
    "        images = images.reshape(-1, sequence_length, input_size).to(device)\n",
    "        labels = labels.to(device)\n",
    "        outputs = model(images)\n",
    "        _, predicted = torch.max(outputs.data, 1)\n",
    "        total += labels.size(0)\n",
    "        correct += (predicted == labels).sum().item()\n",
    "\n",
    "    print('Test Accuracy of the model on the 10000 test images: {} %'.format(100 * correct / total)) "
   ]
  },
  {
   "cell_type": "code",
   "execution_count": 15,
   "metadata": {},
   "outputs": [],
   "source": [
    "# 保存模型\n",
    "torch.save(model.state_dict(), 'model.ckpt')"
   ]
  }
 ],
 "metadata": {
  "kernelspec": {
   "display_name": "Python 3",
   "language": "python",
   "name": "python3"
  },
  "language_info": {
   "codemirror_mode": {
    "name": "ipython",
    "version": 3
   },
   "file_extension": ".py",
   "mimetype": "text/x-python",
   "name": "python",
   "nbconvert_exporter": "python",
   "pygments_lexer": "ipython3",
   "version": "3.6.5"
  }
 },
 "nbformat": 4,
 "nbformat_minor": 2
}
