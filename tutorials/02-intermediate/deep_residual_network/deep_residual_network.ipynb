{
 "cells": [
  {
   "cell_type": "markdown",
   "metadata": {},
   "source": [
    "![Pytorch](../../../pytorch_logo_2018.svg)"
   ]
  },
  {
   "cell_type": "markdown",
   "metadata": {},
   "source": [
    "# Pytorch 中级篇（2）：深度残差网络（Deep Residual Networks）\n",
    "\n",
    ">参考代码\n",
    ">\n",
    ">**yunjey的 [pytorch tutorial系列](https://github.com/yunjey/pytorch-tutorial/tree/master/tutorials/02-intermediate/deep_residual_network/main.py)**"
   ]
  },
  {
   "cell_type": "markdown",
   "metadata": {},
   "source": [
    "## 深度残差网络 学习资源\n",
    "\n",
    ">**论文原文**\n",
    ">\n",
    ">[Deep Residual Learning for Image Recognition](https://arxiv.org/abs/1512.03385)\n",
    "\n",
    ">**Kaiming He的深度残差网络PPT**\n",
    ">\n",
    ">[秒懂！何凯明的深度残差网络PPT是这样的|ICML2016 tutorial](https://www.leiphone.com/news/201608/vhqwt5eWmUsLBcnv.html)"
   ]
  },
  {
   "cell_type": "markdown",
   "metadata": {},
   "source": [
    "## Pytorch实现\n",
    "\n",
    "根据原文【4.2. CIFAR-10 and Analysis】一节设计的针对数据集CIFAR-10的深度残差网络。"
   ]
  },
  {
   "cell_type": "markdown",
   "metadata": {},
   "source": [
    "### 预处理"
   ]
  },
  {
   "cell_type": "code",
   "execution_count": 1,
   "metadata": {},
   "outputs": [],
   "source": [
    "# 包\n",
    "import torch\n",
    "import torch.nn as nn\n",
    "import torchvision\n",
    "import torchvision.transforms as transforms"
   ]
  },
  {
   "cell_type": "code",
   "execution_count": 2,
   "metadata": {},
   "outputs": [],
   "source": [
    "# 设备配置\n",
    "torch.cuda.set_device(1) # 这句用来设置pytorch在哪块GPU上运行\n",
    "device = torch.device('cuda' if torch.cuda.is_available() else 'cpu')\n",
    "\n",
    "# 超参数设置\n",
    "num_epochs = 80\n",
    "learning_rate = 0.001\n",
    "\n",
    "# 图像预处理模块\n",
    "# 先padding ，再 翻转，然后 裁剪。数据增广的手段\n",
    "transform = transforms.Compose([\n",
    "    transforms.Pad(4),\n",
    "    transforms.RandomHorizontalFlip(),\n",
    "    transforms.RandomCrop(32),\n",
    "    transforms.ToTensor()])"
   ]
  },
  {
   "cell_type": "markdown",
   "metadata": {},
   "source": [
    "### CIFAR-10 数据集"
   ]
  },
  {
   "cell_type": "code",
   "execution_count": 3,
   "metadata": {},
   "outputs": [
    {
     "name": "stdout",
     "output_type": "stream",
     "text": [
      "Files already downloaded and verified\n"
     ]
    }
   ],
   "source": [
    "#  训练数据集\n",
    "train_dataset = torchvision.datasets.CIFAR10(root='../../../data/cifar-10',\n",
    "                                             train=True, \n",
    "                                             transform=transform,\n",
    "                                             download=True)\n",
    "\n",
    "# 测试数据集\n",
    "test_dataset = torchvision.datasets.CIFAR10(root='../../../data/cifar-10',\n",
    "                                            train=False, \n",
    "                                            transform=transforms.ToTensor())\n",
    "\n",
    "# 数据加载器\n",
    "# 训练数据加载器\n",
    "train_loader = torch.utils.data.DataLoader(dataset=train_dataset,\n",
    "                                           batch_size=100, \n",
    "                                           shuffle=True)\n",
    "# 测试数据加载器\n",
    "test_loader = torch.utils.data.DataLoader(dataset=test_dataset,\n",
    "                                          batch_size=100, \n",
    "                                          shuffle=False)"
   ]
  },
  {
   "cell_type": "markdown",
   "metadata": {},
   "source": [
    "### 深度残差网络模型设计"
   ]
  },
  {
   "cell_type": "markdown",
   "metadata": {},
   "source": [
    "#### 3x3卷积层"
   ]
  },
  {
   "cell_type": "code",
   "execution_count": 4,
   "metadata": {},
   "outputs": [],
   "source": [
    "# 3x3 convolution\n",
    "def conv3x3(in_channels, out_channels, stride=1):\n",
    "    return nn.Conv2d(in_channels, out_channels, kernel_size=3, \n",
    "                     stride=stride, padding=1, bias=False)"
   ]
  },
  {
   "cell_type": "markdown",
   "metadata": {},
   "source": [
    "#### 残差块（残差单元）（Residual  block）"
   ]
  },
  {
   "cell_type": "code",
   "execution_count": 5,
   "metadata": {},
   "outputs": [],
   "source": [
    "# Residual block\n",
    "class ResidualBlock(nn.Module):\n",
    "    def __init__(self, in_channels, out_channels, stride=1, downsample=None):\n",
    "        super(ResidualBlock, self).__init__()\n",
    "        self.conv1 = conv3x3(in_channels, out_channels, stride)\n",
    "        self.bn1 = nn.BatchNorm2d(out_channels)\n",
    "        self.relu = nn.ReLU(inplace=True)\n",
    "        self.conv2 = conv3x3(out_channels, out_channels)\n",
    "        self.bn2 = nn.BatchNorm2d(out_channels)\n",
    "        self.downsample = downsample\n",
    "        \n",
    "    def forward(self, x):\n",
    "        residual = x\n",
    "        out = self.conv1(x)\n",
    "        out = self.bn1(out)\n",
    "        out = self.relu(out)\n",
    "        out = self.conv2(out)\n",
    "        out = self.bn2(out)\n",
    "        if self.downsample:\n",
    "            residual = self.downsample(x)\n",
    "        out += residual\n",
    "        out = self.relu(out)\n",
    "        return out"
   ]
  },
  {
   "cell_type": "markdown",
   "metadata": {},
   "source": [
    "#### 残差网络搭建"
   ]
  },
  {
   "cell_type": "code",
   "execution_count": 6,
   "metadata": {},
   "outputs": [],
   "source": [
    "# ResNet\n",
    "class ResNet(nn.Module):\n",
    "    def __init__(self, block, layers, num_classes=10):\n",
    "        super(ResNet, self).__init__()\n",
    "        self.in_channels = 16\n",
    "        self.conv = conv3x3(3, 16)\n",
    "        self.bn = nn.BatchNorm2d(16)\n",
    "        self.relu = nn.ReLU(inplace=True)\n",
    "        self.layer1 = self.make_layer(block, 16, layers[0])\n",
    "        self.layer2 = self.make_layer(block, 32, layers[0], 2)\n",
    "        self.layer3 = self.make_layer(block, 64, layers[1], 2)\n",
    "        self.avg_pool = nn.AvgPool2d(8,ceil_mode=False) #  nn.AvgPool2d需要添加参数ceil_mode=False，否则该模块无法导出为onnx格式\n",
    "        self.fc = nn.Linear(64, num_classes)\n",
    "        \n",
    "    def make_layer(self, block, out_channels, blocks, stride=1):\n",
    "        downsample = None\n",
    "        if (stride != 1) or (self.in_channels != out_channels):\n",
    "            downsample = nn.Sequential(\n",
    "                conv3x3(self.in_channels, out_channels, stride=stride),\n",
    "                nn.BatchNorm2d(out_channels))\n",
    "        layers = []\n",
    "        layers.append(block(self.in_channels, out_channels, stride, downsample)) # 残差直接映射部分\n",
    "        self.in_channels = out_channels\n",
    "        for i in range(1, blocks):\n",
    "            layers.append(block(out_channels, out_channels))\n",
    "        return nn.Sequential(*layers)\n",
    "    \n",
    "    def forward(self, x):\n",
    "        out = self.conv(x)\n",
    "        out = self.bn(out)\n",
    "        out = self.relu(out)\n",
    "        out = self.layer1(out)\n",
    "        out = self.layer2(out)\n",
    "        out = self.layer3(out)\n",
    "        out = self.avg_pool(out)\n",
    "        out = out.view(out.size(0), -1)\n",
    "        out = self.fc(out)\n",
    "        return out"
   ]
  },
  {
   "cell_type": "markdown",
   "metadata": {},
   "source": [
    "#### 实例化模型"
   ]
  },
  {
   "cell_type": "code",
   "execution_count": 7,
   "metadata": {},
   "outputs": [],
   "source": [
    "# 实例化一个残差网络模型\n",
    "model = ResNet(ResidualBlock, [2, 2, 2, 2]).to(device)\n",
    "\n",
    "# 设置损失函数和优化器\n",
    "criterion = nn.CrossEntropyLoss()\n",
    "optimizer = torch.optim.Adam(model.parameters(), lr=learning_rate)\n",
    "\n",
    "# 用于更新参数组中的学习率\n",
    "def update_lr(optimizer, lr):    \n",
    "    for param_group in optimizer.param_groups:\n",
    "        param_group['lr'] = lr"
   ]
  },
  {
   "cell_type": "markdown",
   "metadata": {},
   "source": [
    "### 训练模型"
   ]
  },
  {
   "cell_type": "code",
   "execution_count": 8,
   "metadata": {},
   "outputs": [
    {
     "name": "stdout",
     "output_type": "stream",
     "text": [
      "Epoch [5/80], Step [100/500] Loss: 0.6474\n",
      "Epoch [5/80], Step [200/500] Loss: 0.7043\n",
      "Epoch [5/80], Step [300/500] Loss: 0.7472\n",
      "Epoch [5/80], Step [400/500] Loss: 0.6662\n",
      "Epoch [5/80], Step [500/500] Loss: 0.6378\n",
      "Epoch [10/80], Step [100/500] Loss: 0.5786\n",
      "Epoch [10/80], Step [200/500] Loss: 0.7229\n",
      "Epoch [10/80], Step [300/500] Loss: 0.6183\n",
      "Epoch [10/80], Step [400/500] Loss: 0.5043\n",
      "Epoch [10/80], Step [500/500] Loss: 0.5799\n",
      "Epoch [15/80], Step [100/500] Loss: 0.5295\n",
      "Epoch [15/80], Step [200/500] Loss: 0.4475\n",
      "Epoch [15/80], Step [300/500] Loss: 0.3896\n",
      "Epoch [15/80], Step [400/500] Loss: 0.4869\n",
      "Epoch [15/80], Step [500/500] Loss: 0.4973\n",
      "Epoch [20/80], Step [100/500] Loss: 0.3953\n",
      "Epoch [20/80], Step [200/500] Loss: 0.4542\n",
      "Epoch [20/80], Step [300/500] Loss: 0.4003\n",
      "Epoch [20/80], Step [400/500] Loss: 0.3863\n",
      "Epoch [20/80], Step [500/500] Loss: 0.2813\n",
      "Epoch [25/80], Step [100/500] Loss: 0.3860\n",
      "Epoch [25/80], Step [200/500] Loss: 0.4341\n",
      "Epoch [25/80], Step [300/500] Loss: 0.3384\n",
      "Epoch [25/80], Step [400/500] Loss: 0.1694\n",
      "Epoch [25/80], Step [500/500] Loss: 0.2215\n",
      "Epoch [30/80], Step [100/500] Loss: 0.2096\n",
      "Epoch [30/80], Step [200/500] Loss: 0.1695\n",
      "Epoch [30/80], Step [300/500] Loss: 0.2272\n",
      "Epoch [30/80], Step [400/500] Loss: 0.2907\n",
      "Epoch [30/80], Step [500/500] Loss: 0.1764\n",
      "Epoch [35/80], Step [100/500] Loss: 0.2971\n",
      "Epoch [35/80], Step [200/500] Loss: 0.2568\n",
      "Epoch [35/80], Step [300/500] Loss: 0.1824\n",
      "Epoch [35/80], Step [400/500] Loss: 0.1700\n",
      "Epoch [35/80], Step [500/500] Loss: 0.2449\n",
      "Epoch [40/80], Step [100/500] Loss: 0.0951\n",
      "Epoch [40/80], Step [200/500] Loss: 0.2217\n",
      "Epoch [40/80], Step [300/500] Loss: 0.2020\n",
      "Epoch [40/80], Step [400/500] Loss: 0.1849\n",
      "Epoch [40/80], Step [500/500] Loss: 0.1752\n",
      "Epoch [45/80], Step [100/500] Loss: 0.3183\n",
      "Epoch [45/80], Step [200/500] Loss: 0.4195\n",
      "Epoch [45/80], Step [300/500] Loss: 0.2002\n",
      "Epoch [45/80], Step [400/500] Loss: 0.1956\n",
      "Epoch [45/80], Step [500/500] Loss: 0.1547\n",
      "Epoch [50/80], Step [100/500] Loss: 0.2431\n",
      "Epoch [50/80], Step [200/500] Loss: 0.1655\n",
      "Epoch [50/80], Step [300/500] Loss: 0.0941\n",
      "Epoch [50/80], Step [400/500] Loss: 0.2437\n",
      "Epoch [50/80], Step [500/500] Loss: 0.1340\n",
      "Epoch [55/80], Step [100/500] Loss: 0.2455\n",
      "Epoch [55/80], Step [200/500] Loss: 0.1532\n",
      "Epoch [55/80], Step [300/500] Loss: 0.1303\n",
      "Epoch [55/80], Step [400/500] Loss: 0.1286\n",
      "Epoch [55/80], Step [500/500] Loss: 0.2082\n",
      "Epoch [60/80], Step [100/500] Loss: 0.2705\n",
      "Epoch [60/80], Step [200/500] Loss: 0.1413\n",
      "Epoch [60/80], Step [300/500] Loss: 0.1149\n",
      "Epoch [60/80], Step [400/500] Loss: 0.1146\n",
      "Epoch [60/80], Step [500/500] Loss: 0.1569\n",
      "Epoch [65/80], Step [100/500] Loss: 0.1463\n",
      "Epoch [65/80], Step [200/500] Loss: 0.1799\n",
      "Epoch [65/80], Step [300/500] Loss: 0.1485\n",
      "Epoch [65/80], Step [400/500] Loss: 0.1690\n",
      "Epoch [65/80], Step [500/500] Loss: 0.2135\n",
      "Epoch [70/80], Step [100/500] Loss: 0.1388\n",
      "Epoch [70/80], Step [200/500] Loss: 0.1783\n",
      "Epoch [70/80], Step [300/500] Loss: 0.1284\n",
      "Epoch [70/80], Step [400/500] Loss: 0.1675\n",
      "Epoch [70/80], Step [500/500] Loss: 0.2066\n",
      "Epoch [75/80], Step [100/500] Loss: 0.1681\n",
      "Epoch [75/80], Step [200/500] Loss: 0.0998\n",
      "Epoch [75/80], Step [300/500] Loss: 0.1553\n",
      "Epoch [75/80], Step [400/500] Loss: 0.1153\n",
      "Epoch [75/80], Step [500/500] Loss: 0.1365\n",
      "Epoch [80/80], Step [100/500] Loss: 0.1176\n",
      "Epoch [80/80], Step [200/500] Loss: 0.2006\n",
      "Epoch [80/80], Step [300/500] Loss: 0.1738\n",
      "Epoch [80/80], Step [400/500] Loss: 0.1613\n",
      "Epoch [80/80], Step [500/500] Loss: 0.2003\n"
     ]
    }
   ],
   "source": [
    "total_step = len(train_loader)\n",
    "curr_lr = learning_rate\n",
    "for epoch in range(num_epochs):\n",
    "    for i, (images, labels) in enumerate(train_loader):\n",
    "        images = images.to(device)\n",
    "        labels = labels.to(device)\n",
    "        \n",
    "        # 前向传播\n",
    "        outputs = model(images)\n",
    "        loss = criterion(outputs, labels)\n",
    "        \n",
    "        # 反向传播和优化\n",
    "        optimizer.zero_grad()\n",
    "        loss.backward()\n",
    "        optimizer.step()\n",
    "        \n",
    "        if ((i+1) % 100 == 0) and ((epoch+1) % 5 == 0):\n",
    "            print (\"Epoch [{}/{}], Step [{}/{}] Loss: {:.4f}\"\n",
    "                   .format(epoch+1, num_epochs, i+1, total_step, loss.item()))\n",
    "\n",
    "    # 学习率衰减策略\n",
    "    if (epoch+1) % 20 == 0:\n",
    "        curr_lr /= 3\n",
    "        update_lr(optimizer, curr_lr)"
   ]
  },
  {
   "cell_type": "markdown",
   "metadata": {},
   "source": [
    "### 模型测试和保存"
   ]
  },
  {
   "cell_type": "code",
   "execution_count": 9,
   "metadata": {},
   "outputs": [
    {
     "data": {
      "text/plain": [
       "ResNet(\n",
       "  (conv): Conv2d(3, 16, kernel_size=(3, 3), stride=(1, 1), padding=(1, 1), bias=False)\n",
       "  (bn): BatchNorm2d(16, eps=1e-05, momentum=0.1, affine=True, track_running_stats=True)\n",
       "  (relu): ReLU(inplace)\n",
       "  (layer1): Sequential(\n",
       "    (0): ResidualBlock(\n",
       "      (conv1): Conv2d(16, 16, kernel_size=(3, 3), stride=(1, 1), padding=(1, 1), bias=False)\n",
       "      (bn1): BatchNorm2d(16, eps=1e-05, momentum=0.1, affine=True, track_running_stats=True)\n",
       "      (relu): ReLU(inplace)\n",
       "      (conv2): Conv2d(16, 16, kernel_size=(3, 3), stride=(1, 1), padding=(1, 1), bias=False)\n",
       "      (bn2): BatchNorm2d(16, eps=1e-05, momentum=0.1, affine=True, track_running_stats=True)\n",
       "    )\n",
       "    (1): ResidualBlock(\n",
       "      (conv1): Conv2d(16, 16, kernel_size=(3, 3), stride=(1, 1), padding=(1, 1), bias=False)\n",
       "      (bn1): BatchNorm2d(16, eps=1e-05, momentum=0.1, affine=True, track_running_stats=True)\n",
       "      (relu): ReLU(inplace)\n",
       "      (conv2): Conv2d(16, 16, kernel_size=(3, 3), stride=(1, 1), padding=(1, 1), bias=False)\n",
       "      (bn2): BatchNorm2d(16, eps=1e-05, momentum=0.1, affine=True, track_running_stats=True)\n",
       "    )\n",
       "  )\n",
       "  (layer2): Sequential(\n",
       "    (0): ResidualBlock(\n",
       "      (conv1): Conv2d(16, 32, kernel_size=(3, 3), stride=(2, 2), padding=(1, 1), bias=False)\n",
       "      (bn1): BatchNorm2d(32, eps=1e-05, momentum=0.1, affine=True, track_running_stats=True)\n",
       "      (relu): ReLU(inplace)\n",
       "      (conv2): Conv2d(32, 32, kernel_size=(3, 3), stride=(1, 1), padding=(1, 1), bias=False)\n",
       "      (bn2): BatchNorm2d(32, eps=1e-05, momentum=0.1, affine=True, track_running_stats=True)\n",
       "      (downsample): Sequential(\n",
       "        (0): Conv2d(16, 32, kernel_size=(3, 3), stride=(2, 2), padding=(1, 1), bias=False)\n",
       "        (1): BatchNorm2d(32, eps=1e-05, momentum=0.1, affine=True, track_running_stats=True)\n",
       "      )\n",
       "    )\n",
       "    (1): ResidualBlock(\n",
       "      (conv1): Conv2d(32, 32, kernel_size=(3, 3), stride=(1, 1), padding=(1, 1), bias=False)\n",
       "      (bn1): BatchNorm2d(32, eps=1e-05, momentum=0.1, affine=True, track_running_stats=True)\n",
       "      (relu): ReLU(inplace)\n",
       "      (conv2): Conv2d(32, 32, kernel_size=(3, 3), stride=(1, 1), padding=(1, 1), bias=False)\n",
       "      (bn2): BatchNorm2d(32, eps=1e-05, momentum=0.1, affine=True, track_running_stats=True)\n",
       "    )\n",
       "  )\n",
       "  (layer3): Sequential(\n",
       "    (0): ResidualBlock(\n",
       "      (conv1): Conv2d(32, 64, kernel_size=(3, 3), stride=(2, 2), padding=(1, 1), bias=False)\n",
       "      (bn1): BatchNorm2d(64, eps=1e-05, momentum=0.1, affine=True, track_running_stats=True)\n",
       "      (relu): ReLU(inplace)\n",
       "      (conv2): Conv2d(64, 64, kernel_size=(3, 3), stride=(1, 1), padding=(1, 1), bias=False)\n",
       "      (bn2): BatchNorm2d(64, eps=1e-05, momentum=0.1, affine=True, track_running_stats=True)\n",
       "      (downsample): Sequential(\n",
       "        (0): Conv2d(32, 64, kernel_size=(3, 3), stride=(2, 2), padding=(1, 1), bias=False)\n",
       "        (1): BatchNorm2d(64, eps=1e-05, momentum=0.1, affine=True, track_running_stats=True)\n",
       "      )\n",
       "    )\n",
       "    (1): ResidualBlock(\n",
       "      (conv1): Conv2d(64, 64, kernel_size=(3, 3), stride=(1, 1), padding=(1, 1), bias=False)\n",
       "      (bn1): BatchNorm2d(64, eps=1e-05, momentum=0.1, affine=True, track_running_stats=True)\n",
       "      (relu): ReLU(inplace)\n",
       "      (conv2): Conv2d(64, 64, kernel_size=(3, 3), stride=(1, 1), padding=(1, 1), bias=False)\n",
       "      (bn2): BatchNorm2d(64, eps=1e-05, momentum=0.1, affine=True, track_running_stats=True)\n",
       "    )\n",
       "  )\n",
       "  (avg_pool): AvgPool2d(kernel_size=8, stride=8, padding=0)\n",
       "  (fc): Linear(in_features=64, out_features=10, bias=True)\n",
       ")"
      ]
     },
     "execution_count": 9,
     "metadata": {},
     "output_type": "execute_result"
    }
   ],
   "source": [
    "# 设置为评估模式\n",
    "model.eval() "
   ]
  },
  {
   "cell_type": "code",
   "execution_count": 10,
   "metadata": {},
   "outputs": [
    {
     "name": "stdout",
     "output_type": "stream",
     "text": [
      "Accuracy of the model on the test images: 88.24 %\n"
     ]
    }
   ],
   "source": [
    "# 屏蔽梯度计算\n",
    "with torch.no_grad():\n",
    "    correct = 0\n",
    "    total = 0\n",
    "    for images, labels in test_loader:\n",
    "        images = images.to(device)\n",
    "        labels = labels.to(device)\n",
    "        outputs = model(images)\n",
    "        _, predicted = torch.max(outputs.data, 1)\n",
    "        total += labels.size(0)\n",
    "        correct += (predicted == labels).sum().item()\n",
    "\n",
    "    print('Accuracy of the model on the test images: {} %'.format(100 * correct / total))"
   ]
  },
  {
   "cell_type": "code",
   "execution_count": 11,
   "metadata": {},
   "outputs": [],
   "source": [
    "# 保存模型\n",
    "torch.save(model.state_dict(), 'resnet.ckpt')"
   ]
  },
  {
   "cell_type": "markdown",
   "metadata": {},
   "source": [
    "## Pytorch模型可视化"
   ]
  },
  {
   "cell_type": "markdown",
   "metadata": {},
   "source": [
    "### 导出ONNX模型"
   ]
  },
  {
   "cell_type": "code",
   "execution_count": 14,
   "metadata": {},
   "outputs": [
    {
     "name": "stdout",
     "output_type": "stream",
     "text": [
      "graph(%0 : Float(1, 3, 32, 32)\n",
      "      %1 : Float(16, 3, 3, 3)\n",
      "      %2 : Float(16)\n",
      "      %3 : Float(16)\n",
      "      %4 : Float(16)\n",
      "      %5 : Float(16)\n",
      "      %6 : Long()\n",
      "      %7 : Float(16, 16, 3, 3)\n",
      "      %8 : Float(16)\n",
      "      %9 : Float(16)\n",
      "      %10 : Float(16)\n",
      "      %11 : Float(16)\n",
      "      %12 : Long()\n",
      "      %13 : Float(16, 16, 3, 3)\n",
      "      %14 : Float(16)\n",
      "      %15 : Float(16)\n",
      "      %16 : Float(16)\n",
      "      %17 : Float(16)\n",
      "      %18 : Long()\n",
      "      %19 : Float(16, 16, 3, 3)\n",
      "      %20 : Float(16)\n",
      "      %21 : Float(16)\n",
      "      %22 : Float(16)\n",
      "      %23 : Float(16)\n",
      "      %24 : Long()\n",
      "      %25 : Float(16, 16, 3, 3)\n",
      "      %26 : Float(16)\n",
      "      %27 : Float(16)\n",
      "      %28 : Float(16)\n",
      "      %29 : Float(16)\n",
      "      %30 : Long()\n",
      "      %31 : Float(32, 16, 3, 3)\n",
      "      %32 : Float(32)\n",
      "      %33 : Float(32)\n",
      "      %34 : Float(32)\n",
      "      %35 : Float(32)\n",
      "      %36 : Long()\n",
      "      %37 : Float(32, 32, 3, 3)\n",
      "      %38 : Float(32)\n",
      "      %39 : Float(32)\n",
      "      %40 : Float(32)\n",
      "      %41 : Float(32)\n",
      "      %42 : Long()\n",
      "      %43 : Float(32, 16, 3, 3)\n",
      "      %44 : Float(32)\n",
      "      %45 : Float(32)\n",
      "      %46 : Float(32)\n",
      "      %47 : Float(32)\n",
      "      %48 : Long()\n",
      "      %49 : Float(32, 32, 3, 3)\n",
      "      %50 : Float(32)\n",
      "      %51 : Float(32)\n",
      "      %52 : Float(32)\n",
      "      %53 : Float(32)\n",
      "      %54 : Long()\n",
      "      %55 : Float(32, 32, 3, 3)\n",
      "      %56 : Float(32)\n",
      "      %57 : Float(32)\n",
      "      %58 : Float(32)\n",
      "      %59 : Float(32)\n",
      "      %60 : Long()\n",
      "      %61 : Float(64, 32, 3, 3)\n",
      "      %62 : Float(64)\n",
      "      %63 : Float(64)\n",
      "      %64 : Float(64)\n",
      "      %65 : Float(64)\n",
      "      %66 : Long()\n",
      "      %67 : Float(64, 64, 3, 3)\n",
      "      %68 : Float(64)\n",
      "      %69 : Float(64)\n",
      "      %70 : Float(64)\n",
      "      %71 : Float(64)\n",
      "      %72 : Long()\n",
      "      %73 : Float(64, 32, 3, 3)\n",
      "      %74 : Float(64)\n",
      "      %75 : Float(64)\n",
      "      %76 : Float(64)\n",
      "      %77 : Float(64)\n",
      "      %78 : Long()\n",
      "      %79 : Float(64, 64, 3, 3)\n",
      "      %80 : Float(64)\n",
      "      %81 : Float(64)\n",
      "      %82 : Float(64)\n",
      "      %83 : Float(64)\n",
      "      %84 : Long()\n",
      "      %85 : Float(64, 64, 3, 3)\n",
      "      %86 : Float(64)\n",
      "      %87 : Float(64)\n",
      "      %88 : Float(64)\n",
      "      %89 : Float(64)\n",
      "      %90 : Long()\n",
      "      %91 : Float(10, 64)\n",
      "      %92 : Float(10)) {\n",
      "  %93 : Float(1, 16, 32, 32) = onnx::Conv[dilations=[1, 1], group=1, kernel_shape=[3, 3], pads=[1, 1, 1, 1], strides=[1, 1]](%0, %1), scope: ResNet/Conv2d[conv]\n",
      "  %94 : Float(1, 16, 32, 32) = onnx::BatchNormalization[epsilon=1e-05, is_test=1, momentum=1](%93, %2, %3, %4, %5), scope: ResNet/BatchNorm2d[bn]\n",
      "  %95 : Float(1, 16, 32, 32) = onnx::Relu(%94), scope: ResNet/ReLU[relu]\n",
      "  %96 : Float(1, 16, 32, 32) = onnx::Conv[dilations=[1, 1], group=1, kernel_shape=[3, 3], pads=[1, 1, 1, 1], strides=[1, 1]](%95, %7), scope: ResNet/Sequential[layer1]/ResidualBlock[0]/Conv2d[conv1]\n",
      "  %97 : Float(1, 16, 32, 32) = onnx::BatchNormalization[epsilon=1e-05, is_test=1, momentum=1](%96, %8, %9, %10, %11), scope: ResNet/Sequential[layer1]/ResidualBlock[0]/BatchNorm2d[bn1]\n",
      "  %98 : Float(1, 16, 32, 32) = onnx::Relu(%97), scope: ResNet/Sequential[layer1]/ResidualBlock[0]/ReLU[relu]\n",
      "  %99 : Float(1, 16, 32, 32) = onnx::Conv[dilations=[1, 1], group=1, kernel_shape=[3, 3], pads=[1, 1, 1, 1], strides=[1, 1]](%98, %13), scope: ResNet/Sequential[layer1]/ResidualBlock[0]/Conv2d[conv2]\n",
      "  %100 : Float(1, 16, 32, 32) = onnx::BatchNormalization[epsilon=1e-05, is_test=1, momentum=1](%99, %14, %15, %16, %17), scope: ResNet/Sequential[layer1]/ResidualBlock[0]/BatchNorm2d[bn2]\n",
      "  %101 : Float(1, 16, 32, 32) = onnx::Add(%100, %95), scope: ResNet/Sequential[layer1]/ResidualBlock[0]\n",
      "  %102 : Float(1, 16, 32, 32) = onnx::Relu(%101), scope: ResNet/Sequential[layer1]/ResidualBlock[0]/ReLU[relu]\n",
      "  %103 : Float(1, 16, 32, 32) = onnx::Conv[dilations=[1, 1], group=1, kernel_shape=[3, 3], pads=[1, 1, 1, 1], strides=[1, 1]](%102, %19), scope: ResNet/Sequential[layer1]/ResidualBlock[1]/Conv2d[conv1]\n",
      "  %104 : Float(1, 16, 32, 32) = onnx::BatchNormalization[epsilon=1e-05, is_test=1, momentum=1](%103, %20, %21, %22, %23), scope: ResNet/Sequential[layer1]/ResidualBlock[1]/BatchNorm2d[bn1]\n",
      "  %105 : Float(1, 16, 32, 32) = onnx::Relu(%104), scope: ResNet/Sequential[layer1]/ResidualBlock[1]/ReLU[relu]\n",
      "  %106 : Float(1, 16, 32, 32) = onnx::Conv[dilations=[1, 1], group=1, kernel_shape=[3, 3], pads=[1, 1, 1, 1], strides=[1, 1]](%105, %25), scope: ResNet/Sequential[layer1]/ResidualBlock[1]/Conv2d[conv2]\n",
      "  %107 : Float(1, 16, 32, 32) = onnx::BatchNormalization[epsilon=1e-05, is_test=1, momentum=1](%106, %26, %27, %28, %29), scope: ResNet/Sequential[layer1]/ResidualBlock[1]/BatchNorm2d[bn2]\n",
      "  %108 : Float(1, 16, 32, 32) = onnx::Add(%107, %102), scope: ResNet/Sequential[layer1]/ResidualBlock[1]\n",
      "  %109 : Float(1, 16, 32, 32) = onnx::Relu(%108), scope: ResNet/Sequential[layer1]/ResidualBlock[1]/ReLU[relu]\n",
      "  %110 : Float(1, 32, 16, 16) = onnx::Conv[dilations=[1, 1], group=1, kernel_shape=[3, 3], pads=[1, 1, 1, 1], strides=[2, 2]](%109, %31), scope: ResNet/Sequential[layer2]/ResidualBlock[0]/Conv2d[conv1]\n",
      "  %111 : Float(1, 32, 16, 16) = onnx::BatchNormalization[epsilon=1e-05, is_test=1, momentum=1](%110, %32, %33, %34, %35), scope: ResNet/Sequential[layer2]/ResidualBlock[0]/BatchNorm2d[bn1]\n",
      "  %112 : Float(1, 32, 16, 16) = onnx::Relu(%111), scope: ResNet/Sequential[layer2]/ResidualBlock[0]/ReLU[relu]\n",
      "  %113 : Float(1, 32, 16, 16) = onnx::Conv[dilations=[1, 1], group=1, kernel_shape=[3, 3], pads=[1, 1, 1, 1], strides=[1, 1]](%112, %37), scope: ResNet/Sequential[layer2]/ResidualBlock[0]/Conv2d[conv2]\n",
      "  %114 : Float(1, 32, 16, 16) = onnx::BatchNormalization[epsilon=1e-05, is_test=1, momentum=1](%113, %38, %39, %40, %41), scope: ResNet/Sequential[layer2]/ResidualBlock[0]/BatchNorm2d[bn2]\n",
      "  %115 : Float(1, 32, 16, 16) = onnx::Conv[dilations=[1, 1], group=1, kernel_shape=[3, 3], pads=[1, 1, 1, 1], strides=[2, 2]](%109, %43), scope: ResNet/Sequential[layer2]/ResidualBlock[0]/Sequential[downsample]/Conv2d[0]\n",
      "  %116 : Float(1, 32, 16, 16) = onnx::BatchNormalization[epsilon=1e-05, is_test=1, momentum=1](%115, %44, %45, %46, %47), scope: ResNet/Sequential[layer2]/ResidualBlock[0]/Sequential[downsample]/BatchNorm2d[1]\n",
      "  %117 : Float(1, 32, 16, 16) = onnx::Add(%114, %116), scope: ResNet/Sequential[layer2]/ResidualBlock[0]\n",
      "  %118 : Float(1, 32, 16, 16) = onnx::Relu(%117), scope: ResNet/Sequential[layer2]/ResidualBlock[0]/ReLU[relu]\n",
      "  %119 : Float(1, 32, 16, 16) = onnx::Conv[dilations=[1, 1], group=1, kernel_shape=[3, 3], pads=[1, 1, 1, 1], strides=[1, 1]](%118, %49), scope: ResNet/Sequential[layer2]/ResidualBlock[1]/Conv2d[conv1]\n",
      "  %120 : Float(1, 32, 16, 16) = onnx::BatchNormalization[epsilon=1e-05, is_test=1, momentum=1](%119, %50, %51, %52, %53), scope: ResNet/Sequential[layer2]/ResidualBlock[1]/BatchNorm2d[bn1]\n",
      "  %121 : Float(1, 32, 16, 16) = onnx::Relu(%120), scope: ResNet/Sequential[layer2]/ResidualBlock[1]/ReLU[relu]\n",
      "  %122 : Float(1, 32, 16, 16) = onnx::Conv[dilations=[1, 1], group=1, kernel_shape=[3, 3], pads=[1, 1, 1, 1], strides=[1, 1]](%121, %55), scope: ResNet/Sequential[layer2]/ResidualBlock[1]/Conv2d[conv2]\n",
      "  %123 : Float(1, 32, 16, 16) = onnx::BatchNormalization[epsilon=1e-05, is_test=1, momentum=1](%122, %56, %57, %58, %59), scope: ResNet/Sequential[layer2]/ResidualBlock[1]/BatchNorm2d[bn2]\n",
      "  %124 : Float(1, 32, 16, 16) = onnx::Add(%123, %118), scope: ResNet/Sequential[layer2]/ResidualBlock[1]\n",
      "  %125 : Float(1, 32, 16, 16) = onnx::Relu(%124), scope: ResNet/Sequential[layer2]/ResidualBlock[1]/ReLU[relu]\n",
      "  %126 : Float(1, 64, 8, 8) = onnx::Conv[dilations=[1, 1], group=1, kernel_shape=[3, 3], pads=[1, 1, 1, 1], strides=[2, 2]](%125, %61), scope: ResNet/Sequential[layer3]/ResidualBlock[0]/Conv2d[conv1]\n",
      "  %127 : Float(1, 64, 8, 8) = onnx::BatchNormalization[epsilon=1e-05, is_test=1, momentum=1](%126, %62, %63, %64, %65), scope: ResNet/Sequential[layer3]/ResidualBlock[0]/BatchNorm2d[bn1]\n",
      "  %128 : Float(1, 64, 8, 8) = onnx::Relu(%127), scope: ResNet/Sequential[layer3]/ResidualBlock[0]/ReLU[relu]\n",
      "  %129 : Float(1, 64, 8, 8) = onnx::Conv[dilations=[1, 1], group=1, kernel_shape=[3, 3], pads=[1, 1, 1, 1], strides=[1, 1]](%128, %67), scope: ResNet/Sequential[layer3]/ResidualBlock[0]/Conv2d[conv2]\n",
      "  %130 : Float(1, 64, 8, 8) = onnx::BatchNormalization[epsilon=1e-05, is_test=1, momentum=1](%129, %68, %69, %70, %71), scope: ResNet/Sequential[layer3]/ResidualBlock[0]/BatchNorm2d[bn2]\n",
      "  %131 : Float(1, 64, 8, 8) = onnx::Conv[dilations=[1, 1], group=1, kernel_shape=[3, 3], pads=[1, 1, 1, 1], strides=[2, 2]](%125, %73), scope: ResNet/Sequential[layer3]/ResidualBlock[0]/Sequential[downsample]/Conv2d[0]\n",
      "  %132 : Float(1, 64, 8, 8) = onnx::BatchNormalization[epsilon=1e-05, is_test=1, momentum=1](%131, %74, %75, %76, %77), scope: ResNet/Sequential[layer3]/ResidualBlock[0]/Sequential[downsample]/BatchNorm2d[1]\n",
      "  %133 : Float(1, 64, 8, 8) = onnx::Add(%130, %132), scope: ResNet/Sequential[layer3]/ResidualBlock[0]\n",
      "  %134 : Float(1, 64, 8, 8) = onnx::Relu(%133), scope: ResNet/Sequential[layer3]/ResidualBlock[0]/ReLU[relu]\n",
      "  %135 : Float(1, 64, 8, 8) = onnx::Conv[dilations=[1, 1], group=1, kernel_shape=[3, 3], pads=[1, 1, 1, 1], strides=[1, 1]](%134, %79), scope: ResNet/Sequential[layer3]/ResidualBlock[1]/Conv2d[conv1]\n",
      "  %136 : Float(1, 64, 8, 8) = onnx::BatchNormalization[epsilon=1e-05, is_test=1, momentum=1](%135, %80, %81, %82, %83), scope: ResNet/Sequential[layer3]/ResidualBlock[1]/BatchNorm2d[bn1]\n",
      "  %137 : Float(1, 64, 8, 8) = onnx::Relu(%136), scope: ResNet/Sequential[layer3]/ResidualBlock[1]/ReLU[relu]\n",
      "  %138 : Float(1, 64, 8, 8) = onnx::Conv[dilations=[1, 1], group=1, kernel_shape=[3, 3], pads=[1, 1, 1, 1], strides=[1, 1]](%137, %85), scope: ResNet/Sequential[layer3]/ResidualBlock[1]/Conv2d[conv2]\n",
      "  %139 : Float(1, 64, 8, 8) = onnx::BatchNormalization[epsilon=1e-05, is_test=1, momentum=1](%138, %86, %87, %88, %89), scope: ResNet/Sequential[layer3]/ResidualBlock[1]/BatchNorm2d[bn2]\n",
      "  %140 : Float(1, 64, 8, 8) = onnx::Add(%139, %134), scope: ResNet/Sequential[layer3]/ResidualBlock[1]\n",
      "  %141 : Float(1, 64, 8, 8) = onnx::Relu(%140), scope: ResNet/Sequential[layer3]/ResidualBlock[1]/ReLU[relu]\n",
      "  %142 : Dynamic = onnx::Pad[mode=constant, pads=[0, 0, 0, 0, 0, 0, 0, 0], value=0](%141), scope: ResNet/AvgPool2d[avg_pool]\n",
      "  %143 : Float(1, 64, 1, 1) = onnx::AveragePool[kernel_shape=[8, 8], pads=[0, 0, 0, 0], strides=[8, 8]](%142), scope: ResNet/AvgPool2d[avg_pool]\n",
      "  %144 : Dynamic = onnx::Shape(%143), scope: ResNet\n",
      "  %145 : Dynamic = onnx::Slice[axes=[0], ends=[1], starts=[0]](%144), scope: ResNet\n",
      "  %146 : Long() = onnx::Squeeze[axes=[0]](%145), scope: ResNet\n",
      "  %147 : Long() = onnx::Constant[value={-1}](), scope: ResNet\n",
      "  %148 : Dynamic = onnx::Unsqueeze[axes=[0]](%146), scope: ResNet\n",
      "  %149 : Dynamic = onnx::Unsqueeze[axes=[0]](%147), scope: ResNet\n",
      "  %150 : Dynamic = onnx::Concat[axis=0](%148, %149), scope: ResNet\n",
      "  %151 : Float(1, 64) = onnx::Reshape(%143, %150), scope: ResNet\n",
      "  %152 : Float(1, 10) = onnx::Gemm[alpha=1, beta=1, broadcast=1, transB=1](%151, %91, %92), scope: ResNet/Linear[fc]\n",
      "  return (%152);\n",
      "}\n",
      "\n"
     ]
    }
   ],
   "source": [
    "import torch.onnx\n",
    "\n",
    "# 按照输入格式，设计随机输入\n",
    "dummy_input =torch.randn(1, 3, 32, 32).cuda()   \n",
    "# 导出模型\n",
    "torch.onnx.export(model,dummy_input, 'resnet.onnx',verbose=True, ) "
   ]
  },
  {
   "cell_type": "markdown",
   "metadata": {},
   "source": [
    "### 模型可视化工具：NETRON\n",
    "\n",
    "有几种方式：\n",
    "- 安装ONNX客户端\n",
    "- ONNX有测试网页可以加载显示模型 ：[Netron](https://lutzroeder.github.io/netron/)\n",
    "- 安装netron服务，可以通过`import netron` 和 `netron.start('model.onnx')`来启动本地查看服务，打开指定端口即可看到。"
   ]
  },
  {
   "cell_type": "code",
   "execution_count": 16,
   "metadata": {},
   "outputs": [
    {
     "name": "stdout",
     "output_type": "stream",
     "text": [
      "\n",
      "Stopping http://localhost:8080\n",
      "Serving 'resnet.onnx' at http://localhost:8080\n"
     ]
    }
   ],
   "source": [
    "import netron\n",
    "#打开服务\n",
    "netron.start('resnet.onnx')"
   ]
  },
  {
   "cell_type": "markdown",
   "metadata": {},
   "source": [
    "### 模型可视化结果"
   ]
  },
  {
   "cell_type": "markdown",
   "metadata": {},
   "source": [
    "![ResNet](connet.png)"
   ]
  }
 ],
 "metadata": {
  "kernelspec": {
   "display_name": "Python 3",
   "language": "python",
   "name": "python3"
  },
  "language_info": {
   "codemirror_mode": {
    "name": "ipython",
    "version": 3
   },
   "file_extension": ".py",
   "mimetype": "text/x-python",
   "name": "python",
   "nbconvert_exporter": "python",
   "pygments_lexer": "ipython3",
   "version": "3.6.5"
  }
 },
 "nbformat": 4,
 "nbformat_minor": 2
}
