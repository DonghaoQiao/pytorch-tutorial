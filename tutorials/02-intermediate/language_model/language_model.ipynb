{
 "cells": [
  {
   "cell_type": "markdown",
   "metadata": {},
   "source": [
    "![Pytorch](../../../pytorch_logo_2018.svg)"
   ]
  },
  {
   "cell_type": "markdown",
   "metadata": {},
   "source": [
    "# Pytorch 中级篇（5）：语言模型（Language Model (RNN-LM)）\n",
    "\n",
    ">参考代码\n",
    ">\n",
    ">**yunjey的 [pytorch tutorial系列](https://github.com/yunjey/pytorch-tutorial/blob/master/tutorials/02-intermediate/language_model/main.py)**"
   ]
  },
  {
   "cell_type": "markdown",
   "metadata": {},
   "source": [
    "## 语言模型 学习资料\n",
    "\n",
    "语言模型这一块不是很想接触。就照着yunjey的代码，一带而过吧。\n",
    "\n",
    ">**博客**\n",
    ">\n",
    ">[CS224d笔记4——语言模型和循环神经网络（Recurrent Neural Network, RNN）](https://wugh.github.io/posts/2016/03/cs224d-notes4-recurrent-neural-networks/?utm_source=tuicool&utm_medium=referral)\n",
    ">\n",
    ">[浅谈神经网络中的梯度爆炸问题](https://www.jianshu.com/p/79574b0f2959)"
   ]
  },
  {
   "cell_type": "markdown",
   "metadata": {},
   "source": [
    "## Pytorch 实现"
   ]
  },
  {
   "cell_type": "code",
   "execution_count": 3,
   "metadata": {},
   "outputs": [],
   "source": [
    "# 包\n",
    "import torch\n",
    "import torch.nn as nn\n",
    "import numpy as np\n",
    "from torch.nn.utils import clip_grad_norm\n",
    "from data_utils import Dictionary, Corpus \n",
    "\n",
    "#data_utils代码在https://github.com/yunjey/pytorch-tutorial/blob/master/tutorials/02-intermediate/language_model/data_utils.py"
   ]
  },
  {
   "cell_type": "code",
   "execution_count": 4,
   "metadata": {},
   "outputs": [],
   "source": [
    "# 设备配置\n",
    "# Device configuration\n",
    "torch.cuda.set_device(1) # 这句用来设置pytorch在哪块GPU上运行\n",
    "device = torch.device('cuda' if torch.cuda.is_available() else 'cpu')"
   ]
  },
  {
   "cell_type": "code",
   "execution_count": 5,
   "metadata": {},
   "outputs": [],
   "source": [
    "# 超参数设置\n",
    "# Hyper-parameters\n",
    "embed_size = 128\n",
    "hidden_size = 1024\n",
    "num_layers = 1\n",
    "num_epochs = 5\n",
    "num_samples = 1000     # number of words to be sampled\n",
    "batch_size = 20\n",
    "seq_length = 30\n",
    "learning_rate = 0.002"
   ]
  },
  {
   "cell_type": "markdown",
   "metadata": {},
   "source": [
    "### Penn Treebank 数据集"
   ]
  },
  {
   "cell_type": "code",
   "execution_count": 6,
   "metadata": {},
   "outputs": [],
   "source": [
    "corpus = Corpus()\n",
    "ids = corpus.get_data('data/train.txt', batch_size)\n",
    "vocab_size = len(corpus.dictionary)\n",
    "num_batches = ids.size(1) // seq_length"
   ]
  },
  {
   "cell_type": "markdown",
   "metadata": {},
   "source": [
    "### 基于RNN的语言模型"
   ]
  },
  {
   "cell_type": "code",
   "execution_count": 7,
   "metadata": {},
   "outputs": [],
   "source": [
    "class RNNLM(nn.Module):\n",
    "    def __init__(self, vocab_size, embed_size, hidden_size, num_layers):\n",
    "        super(RNNLM, self).__init__()\n",
    "        self.embed = nn.Embedding(vocab_size, embed_size)\n",
    "        self.lstm = nn.LSTM(embed_size, hidden_size, num_layers, batch_first=True)\n",
    "        self.linear = nn.Linear(hidden_size, vocab_size)\n",
    "        \n",
    "    def forward(self, x, h):\n",
    "        # Embed word ids to vectors\n",
    "        x = self.embed(x)\n",
    "        \n",
    "        # Forward propagate LSTM\n",
    "        out, (h, c) = self.lstm(x, h)\n",
    "        \n",
    "        # Reshape output to (batch_size*sequence_length, hidden_size)\n",
    "        out = out.reshape(out.size(0)*out.size(1), out.size(2))\n",
    "        \n",
    "        # Decode hidden states of all time steps\n",
    "        out = self.linear(out)\n",
    "        return out, (h, c)"
   ]
  },
  {
   "cell_type": "code",
   "execution_count": 8,
   "metadata": {},
   "outputs": [],
   "source": [
    "# 实例化一个模型\n",
    "model = RNNLM(vocab_size, embed_size, hidden_size, num_layers).to(device)"
   ]
  },
  {
   "cell_type": "code",
   "execution_count": 9,
   "metadata": {},
   "outputs": [],
   "source": [
    "# 定义损失函数和优化器\n",
    "criterion = nn.CrossEntropyLoss()\n",
    "optimizer = torch.optim.Adam(model.parameters(), lr=learning_rate)"
   ]
  },
  {
   "cell_type": "code",
   "execution_count": 10,
   "metadata": {},
   "outputs": [],
   "source": [
    "# 定义函数：截断反向传播\n",
    "def detach(states):\n",
    "    return [state.detach() for state in states] "
   ]
  },
  {
   "cell_type": "markdown",
   "metadata": {},
   "source": [
    "### 训练模型"
   ]
  },
  {
   "cell_type": "code",
   "execution_count": 11,
   "metadata": {},
   "outputs": [
    {
     "name": "stderr",
     "output_type": "stream",
     "text": [
      "/home/ubuntu/anaconda3/lib/python3.6/site-packages/ipykernel_launcher.py:19: UserWarning: torch.nn.utils.clip_grad_norm is now deprecated in favor of torch.nn.utils.clip_grad_norm_.\n"
     ]
    },
    {
     "name": "stdout",
     "output_type": "stream",
     "text": [
      "Epoch [1/5], Step[0/1549], Loss: 9.2070, Perplexity: 9966.60\n",
      "Epoch [1/5], Step[100/1549], Loss: 5.9989, Perplexity: 402.99\n",
      "Epoch [1/5], Step[200/1549], Loss: 5.9188, Perplexity: 371.96\n",
      "Epoch [1/5], Step[300/1549], Loss: 5.7725, Perplexity: 321.35\n",
      "Epoch [1/5], Step[400/1549], Loss: 5.6823, Perplexity: 293.63\n",
      "Epoch [1/5], Step[500/1549], Loss: 5.1482, Perplexity: 172.12\n",
      "Epoch [1/5], Step[600/1549], Loss: 5.1709, Perplexity: 176.07\n",
      "Epoch [1/5], Step[700/1549], Loss: 5.3420, Perplexity: 208.93\n",
      "Epoch [1/5], Step[800/1549], Loss: 5.1762, Perplexity: 177.00\n",
      "Epoch [1/5], Step[900/1549], Loss: 5.0525, Perplexity: 156.42\n",
      "Epoch [1/5], Step[1000/1549], Loss: 5.0810, Perplexity: 160.94\n",
      "Epoch [1/5], Step[1100/1549], Loss: 5.3304, Perplexity: 206.52\n",
      "Epoch [1/5], Step[1200/1549], Loss: 5.1753, Perplexity: 176.85\n",
      "Epoch [1/5], Step[1300/1549], Loss: 5.1375, Perplexity: 170.29\n",
      "Epoch [1/5], Step[1400/1549], Loss: 4.8377, Perplexity: 126.18\n",
      "Epoch [1/5], Step[1500/1549], Loss: 5.1570, Perplexity: 173.65\n",
      "Epoch [2/5], Step[0/1549], Loss: 5.4297, Perplexity: 228.07\n",
      "Epoch [2/5], Step[100/1549], Loss: 4.5487, Perplexity: 94.51\n",
      "Epoch [2/5], Step[200/1549], Loss: 4.6870, Perplexity: 108.53\n",
      "Epoch [2/5], Step[300/1549], Loss: 4.6928, Perplexity: 109.15\n",
      "Epoch [2/5], Step[400/1549], Loss: 4.4732, Perplexity: 87.64\n",
      "Epoch [2/5], Step[500/1549], Loss: 4.1760, Perplexity: 65.11\n",
      "Epoch [2/5], Step[600/1549], Loss: 4.4682, Perplexity: 87.20\n",
      "Epoch [2/5], Step[700/1549], Loss: 4.4156, Perplexity: 82.73\n",
      "Epoch [2/5], Step[800/1549], Loss: 4.3548, Perplexity: 77.85\n",
      "Epoch [2/5], Step[900/1549], Loss: 4.1930, Perplexity: 66.22\n",
      "Epoch [2/5], Step[1000/1549], Loss: 4.3182, Perplexity: 75.05\n",
      "Epoch [2/5], Step[1100/1549], Loss: 4.4739, Perplexity: 87.70\n",
      "Epoch [2/5], Step[1200/1549], Loss: 4.4112, Perplexity: 82.37\n",
      "Epoch [2/5], Step[1300/1549], Loss: 4.2890, Perplexity: 72.90\n",
      "Epoch [2/5], Step[1400/1549], Loss: 4.0021, Perplexity: 54.71\n",
      "Epoch [2/5], Step[1500/1549], Loss: 4.3473, Perplexity: 77.27\n",
      "Epoch [3/5], Step[0/1549], Loss: 6.7676, Perplexity: 869.23\n",
      "Epoch [3/5], Step[100/1549], Loss: 3.8664, Perplexity: 47.77\n",
      "Epoch [3/5], Step[200/1549], Loss: 4.0332, Perplexity: 56.44\n",
      "Epoch [3/5], Step[300/1549], Loss: 3.9715, Perplexity: 53.06\n",
      "Epoch [3/5], Step[400/1549], Loss: 3.8199, Perplexity: 45.60\n",
      "Epoch [3/5], Step[500/1549], Loss: 3.4156, Perplexity: 30.44\n",
      "Epoch [3/5], Step[600/1549], Loss: 3.9293, Perplexity: 50.87\n",
      "Epoch [3/5], Step[700/1549], Loss: 3.8010, Perplexity: 44.75\n",
      "Epoch [3/5], Step[800/1549], Loss: 3.6944, Perplexity: 40.22\n",
      "Epoch [3/5], Step[900/1549], Loss: 3.4924, Perplexity: 32.87\n",
      "Epoch [3/5], Step[1000/1549], Loss: 3.6192, Perplexity: 37.31\n",
      "Epoch [3/5], Step[1100/1549], Loss: 3.7801, Perplexity: 43.82\n",
      "Epoch [3/5], Step[1200/1549], Loss: 3.7905, Perplexity: 44.28\n",
      "Epoch [3/5], Step[1300/1549], Loss: 3.4920, Perplexity: 32.85\n",
      "Epoch [3/5], Step[1400/1549], Loss: 3.2644, Perplexity: 26.17\n",
      "Epoch [3/5], Step[1500/1549], Loss: 3.6106, Perplexity: 36.99\n",
      "Epoch [4/5], Step[0/1549], Loss: 4.5910, Perplexity: 98.59\n",
      "Epoch [4/5], Step[100/1549], Loss: 3.3086, Perplexity: 27.35\n",
      "Epoch [4/5], Step[200/1549], Loss: 3.4173, Perplexity: 30.49\n",
      "Epoch [4/5], Step[300/1549], Loss: 3.3424, Perplexity: 28.29\n",
      "Epoch [4/5], Step[400/1549], Loss: 3.3040, Perplexity: 27.22\n",
      "Epoch [4/5], Step[500/1549], Loss: 2.9707, Perplexity: 19.51\n",
      "Epoch [4/5], Step[600/1549], Loss: 3.4324, Perplexity: 30.95\n",
      "Epoch [4/5], Step[700/1549], Loss: 3.2762, Perplexity: 26.48\n",
      "Epoch [4/5], Step[800/1549], Loss: 3.1982, Perplexity: 24.49\n",
      "Epoch [4/5], Step[900/1549], Loss: 2.9825, Perplexity: 19.74\n",
      "Epoch [4/5], Step[1000/1549], Loss: 3.1104, Perplexity: 22.43\n",
      "Epoch [4/5], Step[1100/1549], Loss: 3.2339, Perplexity: 25.38\n",
      "Epoch [4/5], Step[1200/1549], Loss: 3.2937, Perplexity: 26.94\n",
      "Epoch [4/5], Step[1300/1549], Loss: 3.0448, Perplexity: 21.00\n",
      "Epoch [4/5], Step[1400/1549], Loss: 2.8098, Perplexity: 16.61\n",
      "Epoch [4/5], Step[1500/1549], Loss: 3.1238, Perplexity: 22.73\n",
      "Epoch [5/5], Step[0/1549], Loss: 3.6842, Perplexity: 39.81\n",
      "Epoch [5/5], Step[100/1549], Loss: 2.8963, Perplexity: 18.11\n",
      "Epoch [5/5], Step[200/1549], Loss: 3.1310, Perplexity: 22.90\n",
      "Epoch [5/5], Step[300/1549], Loss: 3.0674, Perplexity: 21.49\n",
      "Epoch [5/5], Step[400/1549], Loss: 2.9441, Perplexity: 18.99\n",
      "Epoch [5/5], Step[500/1549], Loss: 2.6322, Perplexity: 13.90\n",
      "Epoch [5/5], Step[600/1549], Loss: 3.0877, Perplexity: 21.93\n",
      "Epoch [5/5], Step[700/1549], Loss: 2.8889, Perplexity: 17.97\n",
      "Epoch [5/5], Step[800/1549], Loss: 2.9450, Perplexity: 19.01\n",
      "Epoch [5/5], Step[900/1549], Loss: 2.6752, Perplexity: 14.52\n",
      "Epoch [5/5], Step[1000/1549], Loss: 2.8156, Perplexity: 16.70\n",
      "Epoch [5/5], Step[1100/1549], Loss: 2.8724, Perplexity: 17.68\n",
      "Epoch [5/5], Step[1200/1549], Loss: 2.9378, Perplexity: 18.87\n",
      "Epoch [5/5], Step[1300/1549], Loss: 2.6900, Perplexity: 14.73\n",
      "Epoch [5/5], Step[1400/1549], Loss: 2.4771, Perplexity: 11.91\n",
      "Epoch [5/5], Step[1500/1549], Loss: 2.8465, Perplexity: 17.23\n"
     ]
    }
   ],
   "source": [
    "for epoch in range(num_epochs):\n",
    "    # 初始化隐状态和细胞状态\n",
    "    states = ( torch.zeros(num_layers, batch_size, hidden_size).to(device),\n",
    "                    torch.zeros(num_layers, batch_size, hidden_size).to(device) )\n",
    "    \n",
    "    for i in range(0, ids.size(1) - seq_length, seq_length):\n",
    "        # Get mini-batch inputs and targets\n",
    "        inputs = ids[:, i:i+seq_length].to(device)\n",
    "        targets = ids[:, (i+1):(i+1)+seq_length].to(device)\n",
    "        \n",
    "        # Forward pass\n",
    "        states = detach(states)\n",
    "        outputs, states = model(inputs, states)\n",
    "        loss = criterion(outputs, targets.reshape(-1))\n",
    "        \n",
    "        # Backward and optimize\n",
    "        model.zero_grad()\n",
    "        loss.backward()\n",
    "        clip_grad_norm(model.parameters(), 0.5)\n",
    "        optimizer.step()\n",
    "\n",
    "        step = (i+1) // seq_length\n",
    "        if step % 100 == 0:\n",
    "            print ('Epoch [{}/{}], Step[{}/{}], Loss: {:.4f}, Perplexity: {:5.2f}'\n",
    "                   .format(epoch+1, num_epochs, step, num_batches, loss.item(), np.exp(loss.item())))"
   ]
  },
  {
   "cell_type": "markdown",
   "metadata": {},
   "source": [
    "### 测试和保存模型"
   ]
  },
  {
   "cell_type": "code",
   "execution_count": 12,
   "metadata": {},
   "outputs": [
    {
     "name": "stdout",
     "output_type": "stream",
     "text": [
      "Sampled [100/1000] words and save to sample.txt\n",
      "Sampled [200/1000] words and save to sample.txt\n",
      "Sampled [300/1000] words and save to sample.txt\n",
      "Sampled [400/1000] words and save to sample.txt\n",
      "Sampled [500/1000] words and save to sample.txt\n",
      "Sampled [600/1000] words and save to sample.txt\n",
      "Sampled [700/1000] words and save to sample.txt\n",
      "Sampled [800/1000] words and save to sample.txt\n",
      "Sampled [900/1000] words and save to sample.txt\n",
      "Sampled [1000/1000] words and save to sample.txt\n"
     ]
    }
   ],
   "source": [
    "with torch.no_grad():\n",
    "    with open('sample.txt', 'w') as f:\n",
    "        # 初始化隐状态和细胞状态\n",
    "        state = (torch.zeros(num_layers, 1, hidden_size).to(device),\n",
    "                         torch.zeros(num_layers, 1, hidden_size).to(device))\n",
    "\n",
    "        # 随机选择一个单词\n",
    "        prob = torch.ones(vocab_size)\n",
    "        input = torch.multinomial(prob, num_samples=1).unsqueeze(1).to(device)\n",
    "\n",
    "        for i in range(num_samples):\n",
    "            # Forward propagate RNN \n",
    "            output, state = model(input, state)\n",
    "\n",
    "            # Sample a word id\n",
    "            prob = output.exp()\n",
    "            word_id = torch.multinomial(prob, num_samples=1).item()\n",
    "\n",
    "            # Fill input with sampled word id for the next time step\n",
    "            input.fill_(word_id)\n",
    "\n",
    "            # File write\n",
    "            word = corpus.dictionary.idx2word[word_id]\n",
    "            word = '\\n' if word == '<eos>' else word + ' '\n",
    "            f.write(word)\n",
    "\n",
    "            if (i+1) % 100 == 0:\n",
    "                print('Sampled [{}/{}] words and save to {}'.format(i+1, num_samples, 'sample.txt'))"
   ]
  },
  {
   "cell_type": "code",
   "execution_count": 13,
   "metadata": {},
   "outputs": [],
   "source": [
    "# 保存模型\n",
    "torch.save(model.state_dict(), 'model.ckpt')"
   ]
  },
  {
   "cell_type": "markdown",
   "metadata": {},
   "source": [
    "**对于整个流程一脸懵逼，结果也不是很懂**"
   ]
  }
 ],
 "metadata": {
  "kernelspec": {
   "display_name": "Python 3",
   "language": "python",
   "name": "python3"
  },
  "language_info": {
   "codemirror_mode": {
    "name": "ipython",
    "version": 3
   },
   "file_extension": ".py",
   "mimetype": "text/x-python",
   "name": "python",
   "nbconvert_exporter": "python",
   "pygments_lexer": "ipython3",
   "version": "3.6.5"
  }
 },
 "nbformat": 4,
 "nbformat_minor": 2
}
