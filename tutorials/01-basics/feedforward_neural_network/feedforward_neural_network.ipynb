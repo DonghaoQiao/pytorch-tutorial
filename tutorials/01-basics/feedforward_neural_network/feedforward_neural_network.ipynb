{
 "cells": [
  {
   "cell_type": "markdown",
   "metadata": {},
   "source": [
    "![Pytorch](../../../pytorch_logo_2018.svg)"
   ]
  },
  {
   "cell_type": "markdown",
   "metadata": {},
   "source": [
    "# Pytorch 基础篇（4）：前馈神经网络（Feedforward Neural Network）\n",
    "\n",
    ">参考代码\n",
    ">\n",
    ">**yunjey的 [pytorch tutorial系列](https://github.com/yunjey/pytorch-tutorial/blob/master/tutorials/01-basics/feedforward_neural_network/main.py)**"
   ]
  },
  {
   "cell_type": "code",
   "execution_count": 2,
   "metadata": {},
   "outputs": [],
   "source": [
    "# 包\n",
    "import torch\n",
    "import torch.nn as nn\n",
    "import torchvision\n",
    "import torchvision.transforms as transforms"
   ]
  },
  {
   "cell_type": "code",
   "execution_count": 7,
   "metadata": {},
   "outputs": [],
   "source": [
    "# 设备配置\n",
    "# 有cuda就用cuda\n",
    "device = torch.device('cuda' if torch.cuda.is_available() else 'cpu')\n",
    "\n",
    "# 超参数设置\n",
    "input_size = 784\n",
    "hidden_size = 500\n",
    "num_classes = 10\n",
    "num_epochs = 5\n",
    "batch_size = 100\n",
    "learning_rate = 0.001"
   ]
  },
  {
   "cell_type": "code",
   "execution_count": 8,
   "metadata": {},
   "outputs": [
    {
     "name": "stdout",
     "output_type": "stream",
     "text": [
      "cuda\n"
     ]
    }
   ],
   "source": [
    "print(device)"
   ]
  },
  {
   "cell_type": "markdown",
   "metadata": {},
   "source": [
    "## MINIST 数据集加载"
   ]
  },
  {
   "cell_type": "code",
   "execution_count": 9,
   "metadata": {},
   "outputs": [
    {
     "name": "stdout",
     "output_type": "stream",
     "text": [
      "Downloading http://yann.lecun.com/exdb/mnist/train-images-idx3-ubyte.gz\n",
      "Downloading http://yann.lecun.com/exdb/mnist/train-labels-idx1-ubyte.gz\n",
      "Downloading http://yann.lecun.com/exdb/mnist/t10k-images-idx3-ubyte.gz\n",
      "Downloading http://yann.lecun.com/exdb/mnist/t10k-labels-idx1-ubyte.gz\n",
      "Processing...\n",
      "Done!\n"
     ]
    }
   ],
   "source": [
    "# 训练数据集\n",
    "train_dataset = torchvision.datasets.MNIST(root='../../data/minist', \n",
    "                                           train=True, \n",
    "                                           transform=transforms.ToTensor(),  \n",
    "                                           download=True)"
   ]
  },
  {
   "cell_type": "code",
   "execution_count": 10,
   "metadata": {},
   "outputs": [],
   "source": [
    "# 测试数据集\n",
    "test_dataset = torchvision.datasets.MNIST(root='../../data/minist', \n",
    "                                          train=False, \n",
    "                                          transform=transforms.ToTensor())"
   ]
  },
  {
   "cell_type": "code",
   "execution_count": 11,
   "metadata": {},
   "outputs": [],
   "source": [
    "# 数据加载器 Data Loader\n",
    "# 训练数据加载器\n",
    "train_loader = torch.utils.data.DataLoader(dataset=train_dataset, \n",
    "                                           batch_size=batch_size, \n",
    "                                           shuffle=True)\n",
    "\n",
    "# 测试数据加载器\n",
    "test_loader = torch.utils.data.DataLoader(dataset=test_dataset, \n",
    "                                          batch_size=batch_size, \n",
    "                                          shuffle=False)"
   ]
  },
  {
   "cell_type": "markdown",
   "metadata": {},
   "source": [
    "## 自定义前馈神经网络"
   ]
  },
  {
   "cell_type": "code",
   "execution_count": 12,
   "metadata": {},
   "outputs": [],
   "source": [
    "# 定义：有一个隐藏层的全连接的神经网络\n",
    "class NeuralNet(nn.Module):\n",
    "    def __init__(self, input_size, hidden_size, num_classes):\n",
    "        super(NeuralNet, self).__init__()\n",
    "        self.fc1 = nn.Linear(input_size, hidden_size) \n",
    "        self.relu = nn.ReLU()\n",
    "        self.fc2 = nn.Linear(hidden_size, num_classes)  \n",
    "    \n",
    "    def forward(self, x):\n",
    "        out = self.fc1(x)\n",
    "        out = self.relu(out)\n",
    "        out = self.fc2(out)\n",
    "        return out"
   ]
  },
  {
   "cell_type": "code",
   "execution_count": 13,
   "metadata": {},
   "outputs": [],
   "source": [
    "# 加载（实例化）一个网络模型\n",
    "# to(device)可以用来将模型放在GPU上训练\n",
    "model = NeuralNet(input_size, hidden_size, num_classes).to(device)\n",
    "\n",
    "# 定义损失函数和优化器\n",
    "# 再次，损失函数CrossEntropyLoss适合用于分类问题，因为它自带SoftMax功能\n",
    "criterion = nn.CrossEntropyLoss()\n",
    "optimizer = torch.optim.Adam(model.parameters(), lr=learning_rate)  "
   ]
  },
  {
   "cell_type": "markdown",
   "metadata": {},
   "source": [
    "## 训练模型"
   ]
  },
  {
   "cell_type": "code",
   "execution_count": 14,
   "metadata": {},
   "outputs": [
    {
     "name": "stdout",
     "output_type": "stream",
     "text": [
      "Epoch [1/5], Step [100/600], Loss: 0.3552\n",
      "Epoch [1/5], Step [200/600], Loss: 0.2119\n",
      "Epoch [1/5], Step [300/600], Loss: 0.3251\n",
      "Epoch [1/5], Step [400/600], Loss: 0.2134\n",
      "Epoch [1/5], Step [500/600], Loss: 0.1376\n",
      "Epoch [1/5], Step [600/600], Loss: 0.1637\n",
      "Epoch [2/5], Step [100/600], Loss: 0.1140\n",
      "Epoch [2/5], Step [200/600], Loss: 0.2439\n",
      "Epoch [2/5], Step [300/600], Loss: 0.1156\n",
      "Epoch [2/5], Step [400/600], Loss: 0.0217\n",
      "Epoch [2/5], Step [500/600], Loss: 0.0973\n",
      "Epoch [2/5], Step [600/600], Loss: 0.1627\n",
      "Epoch [3/5], Step [100/600], Loss: 0.1536\n",
      "Epoch [3/5], Step [200/600], Loss: 0.0502\n",
      "Epoch [3/5], Step [300/600], Loss: 0.0367\n",
      "Epoch [3/5], Step [400/600], Loss: 0.1291\n",
      "Epoch [3/5], Step [500/600], Loss: 0.0502\n",
      "Epoch [3/5], Step [600/600], Loss: 0.0670\n",
      "Epoch [4/5], Step [100/600], Loss: 0.0598\n",
      "Epoch [4/5], Step [200/600], Loss: 0.0823\n",
      "Epoch [4/5], Step [300/600], Loss: 0.0466\n",
      "Epoch [4/5], Step [400/600], Loss: 0.0350\n",
      "Epoch [4/5], Step [500/600], Loss: 0.0754\n",
      "Epoch [4/5], Step [600/600], Loss: 0.0601\n",
      "Epoch [5/5], Step [100/600], Loss: 0.0274\n",
      "Epoch [5/5], Step [200/600], Loss: 0.0469\n",
      "Epoch [5/5], Step [300/600], Loss: 0.1103\n",
      "Epoch [5/5], Step [400/600], Loss: 0.0505\n",
      "Epoch [5/5], Step [500/600], Loss: 0.0093\n",
      "Epoch [5/5], Step [600/600], Loss: 0.0513\n"
     ]
    }
   ],
   "source": [
    "total_step = len(train_loader)\n",
    "\n",
    "for epoch in range(num_epochs):\n",
    "    for i, (images, labels) in enumerate(train_loader):  \n",
    "        # 将tensor移动到配置好的设备上（GPU）\n",
    "        images = images.reshape(-1, 28*28).to(device)\n",
    "        labels = labels.to(device)\n",
    "        \n",
    "        # 前向传播\n",
    "        outputs = model(images)\n",
    "        loss = criterion(outputs, labels)\n",
    "        \n",
    "        # 反向传播和优化\n",
    "        optimizer.zero_grad()    # 还是要注意此处，每次迭代训练都需要清空梯度缓存\n",
    "        loss.backward()\n",
    "        optimizer.step()\n",
    "        \n",
    "        if (i+1) % 100 == 0:\n",
    "            print ('Epoch [{}/{}], Step [{}/{}], Loss: {:.4f}' \n",
    "                   .format(epoch+1, num_epochs, i+1, total_step, loss.item()))"
   ]
  },
  {
   "cell_type": "markdown",
   "metadata": {},
   "source": [
    "## 测试并保存模型"
   ]
  },
  {
   "cell_type": "code",
   "execution_count": 19,
   "metadata": {},
   "outputs": [
    {
     "name": "stdout",
     "output_type": "stream",
     "text": [
      "Accuracy of the network on the 10000 test images: 97.47 %\n"
     ]
    }
   ],
   "source": [
    "# 测试阶段为提高效率，可以不计算梯度\n",
    "# 使用with torch.no_grad()函数\n",
    "\n",
    "with torch.no_grad():\n",
    "    correct = 0\n",
    "    total = 0\n",
    "    for images, labels in test_loader:\n",
    "        images = images.reshape(-1, 28*28).to(device)\n",
    "        labels = labels.to(device)\n",
    "        outputs = model(images)\n",
    "        # 统计预测概率最大的下标\n",
    "        _, predicted = torch.max(outputs.data, 1)\n",
    "        total += labels.size(0)\n",
    "        correct += (predicted == labels).sum().item()\n",
    "\n",
    "    print('Accuracy of the network on the 10000 test images: {} %'.format(100 * correct / total))"
   ]
  },
  {
   "cell_type": "code",
   "execution_count": 20,
   "metadata": {},
   "outputs": [],
   "source": [
    "# 保存模型\n",
    "torch.save(model.state_dict(), 'model.ckpt')"
   ]
  }
 ],
 "metadata": {
  "kernelspec": {
   "display_name": "Python 3",
   "language": "python",
   "name": "python3"
  },
  "language_info": {
   "codemirror_mode": {
    "name": "ipython",
    "version": 3
   },
   "file_extension": ".py",
   "mimetype": "text/x-python",
   "name": "python",
   "nbconvert_exporter": "python",
   "pygments_lexer": "ipython3",
   "version": "3.6.5"
  }
 },
 "nbformat": 4,
 "nbformat_minor": 2
}
