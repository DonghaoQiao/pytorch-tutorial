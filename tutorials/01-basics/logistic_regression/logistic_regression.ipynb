{
 "cells": [
  {
   "cell_type": "markdown",
   "metadata": {},
   "source": [
    "![Pytorch](../../../pytorch_logo_2018.svg)"
   ]
  },
  {
   "cell_type": "markdown",
   "metadata": {},
   "source": [
    "# Pytorch 基础篇（3）：Logistic Regression（逻辑斯蒂回归）\n",
    "\n",
    "**[参考代码](https://github.com/yunjey/pytorch-tutorial/blob/master/tutorials/01-basics/logistic_regression/main.py)**"
   ]
  },
  {
   "cell_type": "code",
   "execution_count": 1,
   "metadata": {},
   "outputs": [],
   "source": [
    "# 包\n",
    "import torch\n",
    "import torch.nn as nn\n",
    "import torchvision\n",
    "import torchvision.transforms as transforms"
   ]
  },
  {
   "cell_type": "code",
   "execution_count": 2,
   "metadata": {},
   "outputs": [],
   "source": [
    "# 超参数设置 Hyper-parameters\n",
    "input_size = 784\n",
    "num_classes = 10\n",
    "num_epochs = 5\n",
    "batch_size = 100\n",
    "learning_rate = 0.001"
   ]
  },
  {
   "cell_type": "markdown",
   "metadata": {},
   "source": [
    "## MINIST数据集加载（image and labels）"
   ]
  },
  {
   "cell_type": "code",
   "execution_count": 3,
   "metadata": {},
   "outputs": [
    {
     "name": "stdout",
     "output_type": "stream",
     "text": [
      "Downloading http://yann.lecun.com/exdb/mnist/train-images-idx3-ubyte.gz\n",
      "Downloading http://yann.lecun.com/exdb/mnist/train-labels-idx1-ubyte.gz\n",
      "Downloading http://yann.lecun.com/exdb/mnist/t10k-images-idx3-ubyte.gz\n",
      "Downloading http://yann.lecun.com/exdb/mnist/t10k-labels-idx1-ubyte.gz\n",
      "Processing...\n",
      "Done!\n"
     ]
    }
   ],
   "source": [
    "train_dataset = torchvision.datasets.MNIST(root='../../../data/minist', \n",
    "                                           train=True, \n",
    "                                           transform=transforms.ToTensor(),\n",
    "                                           download=True)"
   ]
  },
  {
   "cell_type": "code",
   "execution_count": 5,
   "metadata": {},
   "outputs": [],
   "source": [
    "test_dataset = torchvision.datasets.MNIST(root='../../../data/minist', \n",
    "                                          train=False, \n",
    "                                          transform=transforms.ToTensor())"
   ]
  },
  {
   "cell_type": "code",
   "execution_count": 6,
   "metadata": {},
   "outputs": [],
   "source": [
    "# 数据加载器（data loader）\n",
    "train_loader = torch.utils.data.DataLoader(dataset=train_dataset, \n",
    "                                           batch_size=batch_size, \n",
    "                                           shuffle=True)\n",
    "\n",
    "test_loader = torch.utils.data.DataLoader(dataset=test_dataset, \n",
    "                                          batch_size=batch_size, \n",
    "                                          shuffle=False)"
   ]
  },
  {
   "cell_type": "markdown",
   "metadata": {},
   "source": [
    "## Logistic Regression模型：加载和训练"
   ]
  },
  {
   "cell_type": "code",
   "execution_count": 7,
   "metadata": {},
   "outputs": [
    {
     "name": "stdout",
     "output_type": "stream",
     "text": [
      "Epoch [1/5], Step [100/600], Loss: 2.2091\n",
      "Epoch [1/5], Step [200/600], Loss: 2.0910\n",
      "Epoch [1/5], Step [300/600], Loss: 2.0584\n",
      "Epoch [1/5], Step [400/600], Loss: 1.9679\n",
      "Epoch [1/5], Step [500/600], Loss: 1.8440\n",
      "Epoch [1/5], Step [600/600], Loss: 1.7939\n",
      "Epoch [2/5], Step [100/600], Loss: 1.7501\n",
      "Epoch [2/5], Step [200/600], Loss: 1.6417\n",
      "Epoch [2/5], Step [300/600], Loss: 1.6071\n",
      "Epoch [2/5], Step [400/600], Loss: 1.5562\n",
      "Epoch [2/5], Step [500/600], Loss: 1.5750\n",
      "Epoch [2/5], Step [600/600], Loss: 1.4774\n",
      "Epoch [3/5], Step [100/600], Loss: 1.4367\n",
      "Epoch [3/5], Step [200/600], Loss: 1.3702\n",
      "Epoch [3/5], Step [300/600], Loss: 1.3308\n",
      "Epoch [3/5], Step [400/600], Loss: 1.3523\n",
      "Epoch [3/5], Step [500/600], Loss: 1.3248\n",
      "Epoch [3/5], Step [600/600], Loss: 1.3202\n",
      "Epoch [4/5], Step [100/600], Loss: 1.2332\n",
      "Epoch [4/5], Step [200/600], Loss: 1.1691\n",
      "Epoch [4/5], Step [300/600], Loss: 1.2277\n",
      "Epoch [4/5], Step [400/600], Loss: 1.1631\n",
      "Epoch [4/5], Step [500/600], Loss: 1.1385\n",
      "Epoch [4/5], Step [600/600], Loss: 1.0769\n",
      "Epoch [5/5], Step [100/600], Loss: 1.0163\n",
      "Epoch [5/5], Step [200/600], Loss: 1.1347\n",
      "Epoch [5/5], Step [300/600], Loss: 1.0465\n",
      "Epoch [5/5], Step [400/600], Loss: 1.0809\n",
      "Epoch [5/5], Step [500/600], Loss: 0.9965\n",
      "Epoch [5/5], Step [600/600], Loss: 1.0620\n"
     ]
    }
   ],
   "source": [
    "# 线性模型，指定\n",
    "model = nn.Linear(input_size, num_classes)\n",
    "\n",
    "# 损失函数和优化器\n",
    "# nn.CrossEntropyLoss()内部集成了softmax函数\n",
    "# It is useful when training a classification problem with `C` classes.\n",
    "criterion = nn.CrossEntropyLoss()  \n",
    "optimizer = torch.optim.SGD(model.parameters(), lr=learning_rate)  \n",
    "\n",
    "# 训练模型\n",
    "total_step = len(train_loader)\n",
    "for epoch in range(num_epochs):\n",
    "    for i, (images, labels) in enumerate(train_loader):\n",
    "        # 将图像序列抓换至大小为 (batch_size, input_size)\n",
    "        images = images.reshape(-1, 28*28)\n",
    "        \n",
    "        # 前向传播\n",
    "        outputs = model(images)\n",
    "        loss = criterion(outputs, labels)\n",
    "        \n",
    "        # 反向传播及优化\n",
    "        optimizer.zero_grad() # 注意每次循环都要注意清空梯度缓存\n",
    "        loss.backward()\n",
    "        optimizer.step()\n",
    "        \n",
    "        if (i+1) % 100 == 0:\n",
    "            print ('Epoch [{}/{}], Step [{}/{}], Loss: {:.4f}' \n",
    "                   .format(epoch+1, num_epochs, i+1, total_step, loss.item()))"
   ]
  },
  {
   "cell_type": "markdown",
   "metadata": {},
   "source": [
    "## 模型测试"
   ]
  },
  {
   "cell_type": "code",
   "execution_count": 8,
   "metadata": {},
   "outputs": [
    {
     "name": "stdout",
     "output_type": "stream",
     "text": [
      "Accuracy of the model on the 10000 test images: 82 %\n"
     ]
    }
   ],
   "source": [
    "# 在测试阶段，为了运行内存效率，就不需要计算梯度了\n",
    "# Pytorch 默认每一次前向传播都会计算梯度\n",
    "with torch.no_grad():\n",
    "    correct = 0\n",
    "    total = 0\n",
    "    for images, labels in test_loader:\n",
    "        images = images.reshape(-1, 28*28)\n",
    "        outputs = model(images)\n",
    "        _, predicted = torch.max(outputs.data, 1)\n",
    "        total += labels.size(0)\n",
    "        correct += (predicted == labels).sum()\n",
    "\n",
    "    print('Accuracy of the model on the 10000 test images: {} %'.format(100 * correct / total))"
   ]
  },
  {
   "cell_type": "code",
   "execution_count": 9,
   "metadata": {},
   "outputs": [],
   "source": [
    "## 保存模型\n",
    "torch.save(model.state_dict(), 'model.ckpt')"
   ]
  }
 ],
 "metadata": {
  "kernelspec": {
   "display_name": "Python 3",
   "language": "python",
   "name": "python3"
  },
  "language_info": {
   "codemirror_mode": {
    "name": "ipython",
    "version": 3
   },
   "file_extension": ".py",
   "mimetype": "text/x-python",
   "name": "python",
   "nbconvert_exporter": "python",
   "pygments_lexer": "ipython3",
   "version": "3.6.5"
  }
 },
 "nbformat": 4,
 "nbformat_minor": 2
}
