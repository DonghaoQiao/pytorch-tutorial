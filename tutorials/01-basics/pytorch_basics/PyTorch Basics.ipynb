{
 "cells": [
  {
   "cell_type": "markdown",
   "metadata": {},
   "source": [
    "![Pytorch](../../../pytorch_logo_2018.svg)"
   ]
  },
  {
   "cell_type": "markdown",
   "metadata": {},
   "source": [
    "# Pytorch学习开始"
   ]
  },
  {
   "cell_type": "markdown",
   "metadata": {},
   "source": [
    "入门的材料来自两个地方：\n",
    "\n",
    "第一个是官网教程：[WELCOME TO PYTORCH TUTORIALS](https://pytorch.org/tutorials/)，特别是官网的六十分钟入门教程 [DEEP LEARNING WITH PYTORCH: A 60 MINUTE BLITZ](https://pytorch.org/tutorials/beginner/deep_learning_60min_blitz.html)。\n",
    "\n",
    "第二个是韩国大神Yunjey Choi的Repo：[pytorch-tutorial](https://github.com/yunjey/pytorch-tutorial)，代码写得干净整洁。"
   ]
  },
  {
   "cell_type": "markdown",
   "metadata": {},
   "source": [
    "**目的**：我是直接把Yunjey的教程的python代码挪到Jupyter Notebook上来，一方面可以看到运行结果，另一方面可以添加注释和相关资料链接。方便后面查阅。"
   ]
  },
  {
   "cell_type": "markdown",
   "metadata": {},
   "source": [
    "顺便一题，我的Pytorch的版本是**0.4.1**"
   ]
  },
  {
   "cell_type": "code",
   "execution_count": 2,
   "metadata": {},
   "outputs": [
    {
     "name": "stdout",
     "output_type": "stream",
     "text": [
      "0.4.1\n"
     ]
    }
   ],
   "source": [
    "import torch\n",
    "print(torch.__version__) "
   ]
  },
  {
   "cell_type": "markdown",
   "metadata": {},
   "source": [
    "# Pytorch 基础篇（1）：Pytorch基础\n",
    "\n",
    "**[参考代码](https://github.com/yunjey/pytorch-tutorial/blob/master/tutorials/01-basics/pytorch_basics/main.py)**"
   ]
  },
  {
   "cell_type": "code",
   "execution_count": 3,
   "metadata": {},
   "outputs": [],
   "source": [
    "# 包\n",
    "import torch \n",
    "import torchvision\n",
    "import torch.nn as nn\n",
    "import numpy as np\n",
    "import torchvision.transforms as transforms"
   ]
  },
  {
   "cell_type": "markdown",
   "metadata": {},
   "source": [
    "## autograd（自动求导/求梯度） 基础案例1"
   ]
  },
  {
   "cell_type": "code",
   "execution_count": 4,
   "metadata": {},
   "outputs": [
    {
     "name": "stdout",
     "output_type": "stream",
     "text": [
      "tensor(2.)\n",
      "tensor(1.)\n",
      "tensor(1.)\n"
     ]
    }
   ],
   "source": [
    "# 创建张量（tensors）\n",
    "x = torch.tensor(1., requires_grad=True)\n",
    "w = torch.tensor(2., requires_grad=True)\n",
    "b = torch.tensor(3., requires_grad=True)\n",
    "\n",
    "# 构建计算图（ computational graph）：前向计算\n",
    "y = w * x + b    # y = 2 * x + 3\n",
    "\n",
    "# 反向传播，计算梯度（gradients）\n",
    "y.backward()\n",
    "\n",
    "# 输出梯度\n",
    "print(x.grad)    # x.grad = 2 \n",
    "print(w.grad)    # w.grad = 1 \n",
    "print(b.grad)    # b.grad = 1 "
   ]
  },
  {
   "cell_type": "markdown",
   "metadata": {},
   "source": [
    "## autograd（自动求导/求梯度） 基础案例2"
   ]
  },
  {
   "cell_type": "code",
   "execution_count": 5,
   "metadata": {},
   "outputs": [
    {
     "name": "stdout",
     "output_type": "stream",
     "text": [
      "w:  Parameter containing:\n",
      "tensor([[ 0.5180,  0.2238, -0.5470],\n",
      "        [ 0.1531,  0.2152, -0.4022]], requires_grad=True)\n",
      "b:  Parameter containing:\n",
      "tensor([-0.2110, -0.2629], requires_grad=True)\n",
      "loss:  0.8057981729507446\n",
      "dL/dw:  tensor([[-0.0315,  0.1169, -0.8623],\n",
      "        [ 0.4858,  0.5005, -0.0223]])\n",
      "dL/db:  tensor([0.1065, 0.0955])\n",
      "loss after 1 step optimization:  0.7932316660881042\n"
     ]
    }
   ],
   "source": [
    "# 创建大小为 (10, 3) 和 (10, 2)的张量.\n",
    "x = torch.randn(10, 3)\n",
    "y = torch.randn(10, 2)\n",
    "\n",
    "# 构建全连接层（fully connected layer）\n",
    "linear = nn.Linear(3, 2)\n",
    "print ('w: ', linear.weight)\n",
    "print ('b: ', linear.bias)\n",
    "\n",
    "# 构建损失函数和优化器（loss function and optimizer）\n",
    "# 损失函数使用均方差\n",
    "# 优化器使用随机梯度下降，lr是learning rate\n",
    "criterion = nn.MSELoss()\n",
    "optimizer = torch.optim.SGD(linear.parameters(), lr=0.01)\n",
    "\n",
    "# 前向传播\n",
    "pred = linear(x)\n",
    "\n",
    "# 计算损失\n",
    "loss = criterion(pred, y)\n",
    "print('loss: ', loss.item())\n",
    "\n",
    "# 反向传播\n",
    "loss.backward()\n",
    "\n",
    "# 输出梯度\n",
    "print ('dL/dw: ', linear.weight.grad) \n",
    "print ('dL/db: ', linear.bias.grad)\n",
    "\n",
    "# 执行一步-梯度下降（1-step gradient descent）\n",
    "optimizer.step()\n",
    "\n",
    "# 更底层的实现方式是这样子的\n",
    "# linear.weight.data.sub_(0.01 * linear.weight.grad.data)\n",
    "# linear.bias.data.sub_(0.01 * linear.bias.grad.data)\n",
    "\n",
    "# 进行一次梯度下降之后，输出新的预测损失\n",
    "# loss的确变少了\n",
    "pred = linear(x)\n",
    "loss = criterion(pred, y)\n",
    "print('loss after 1 step optimization: ', loss.item())"
   ]
  },
  {
   "cell_type": "markdown",
   "metadata": {},
   "source": [
    "## 从Numpy装载数据"
   ]
  },
  {
   "cell_type": "code",
   "execution_count": 6,
   "metadata": {},
   "outputs": [
    {
     "name": "stdout",
     "output_type": "stream",
     "text": [
      "[[1 2]\n",
      " [3 4]]\n",
      "tensor([[1, 2],\n",
      "        [3, 4]])\n",
      "[[1 2]\n",
      " [3 4]]\n"
     ]
    }
   ],
   "source": [
    "# 创建Numpy数组\n",
    "x = np.array([[1, 2], [3, 4]])\n",
    "print(x)\n",
    "\n",
    "# 将numpy数组转换为torch的张量\n",
    "y = torch.from_numpy(x)\n",
    "print(y)\n",
    "\n",
    "# 将torch的张量转换为numpy数组\n",
    "z = y.numpy()\n",
    "print(z)"
   ]
  },
  {
   "cell_type": "markdown",
   "metadata": {},
   "source": [
    "## 输入工作流（Input pipeline）"
   ]
  },
  {
   "cell_type": "code",
   "execution_count": 8,
   "metadata": {},
   "outputs": [
    {
     "name": "stdout",
     "output_type": "stream",
     "text": [
      "Files already downloaded and verified\n",
      "torch.Size([3, 32, 32])\n",
      "6\n"
     ]
    }
   ],
   "source": [
    "# 下载和构造CIFAR-10 数据集\n",
    "# Cifar-10数据集介绍：https://www.cs.toronto.edu/~kriz/cifar.html\n",
    "train_dataset = torchvision.datasets.CIFAR10(root='../../../data/',\n",
    "                                             train=True, \n",
    "                                             transform=transforms.ToTensor(),\n",
    "                                             download=True)\n",
    "\n",
    "# 获取一组数据对（从磁盘中读取）\n",
    "image, label = train_dataset[0]\n",
    "print (image.size())\n",
    "print (label)\n",
    "\n",
    "# 数据加载器（提供了队列和线程的简单实现）\n",
    "train_loader = torch.utils.data.DataLoader(dataset=train_dataset,\n",
    "                                           batch_size=64, \n",
    "                                           shuffle=True)\n",
    "\n",
    "# 迭代的使用\n",
    "# 当迭代开始时，队列和线程开始从文件中加载数据\n",
    "data_iter = iter(train_loader)\n",
    "\n",
    "# 获取一组mini-batch\n",
    "images, labels = data_iter.next()\n",
    "\n",
    "\n",
    "# 正常的使用方式如下：\n",
    "for images, labels in train_loader:\n",
    "    # 在此处添加训练用的代码\n",
    "    pass"
   ]
  },
  {
   "cell_type": "markdown",
   "metadata": {},
   "source": [
    "## 自定义数据集的Input pipeline"
   ]
  },
  {
   "cell_type": "code",
   "execution_count": 10,
   "metadata": {},
   "outputs": [],
   "source": [
    "# 构建自定义数据集的方式如下：\n",
    "class CustomDataset(torch.utils.data.Dataset):\n",
    "    def __init__(self):\n",
    "        # TODO\n",
    "        # 1. 初始化文件路径或者文件名\n",
    "        pass\n",
    "    def __getitem__(self, index):\n",
    "        # TODO\n",
    "        # 1. 从文件中读取一份数据（比如使用nump.fromfile，PIL.Image.open）\n",
    "        # 2. 预处理数据（比如使用 torchvision.Transform）\n",
    "        # 3. 返回数据对（比如 image和label）\n",
    "        pass\n",
    "    def __len__(self):\n",
    "        # 将0替换成数据集的总长度\n",
    "        return 0 \n",
    "    \n",
    "# 然后就可以使用预置的数据加载器（data loader）了\n",
    "custom_dataset = CustomDataset()\n",
    "train_loader = torch.utils.data.DataLoader(dataset=custom_dataset,\n",
    "                                           batch_size=64, \n",
    "                                           shuffle=True)"
   ]
  },
  {
   "cell_type": "markdown",
   "metadata": {},
   "source": [
    "## 预训练模型"
   ]
  },
  {
   "cell_type": "code",
   "execution_count": 11,
   "metadata": {},
   "outputs": [
    {
     "name": "stdout",
     "output_type": "stream",
     "text": [
      "torch.Size([64, 100])\n"
     ]
    }
   ],
   "source": [
    "# 下载并加载预训练好的模型 ResNet-18\n",
    "resnet = torchvision.models.resnet18(pretrained=True)\n",
    "\n",
    "\n",
    "# 如果想要在模型仅对Top Layer进行微调的话，可以设置如下：\n",
    "# requieres_grad设置为False的话，就不会进行梯度更新，就能保持原有的参数\n",
    "for param in resnet.parameters():\n",
    "    param.requires_grad = False    \n",
    "    \n",
    "# 替换TopLayer，只对这一层做微调\n",
    "resnet.fc = nn.Linear(resnet.fc.in_features, 100)  # 100 is an example.\n",
    "\n",
    "# 前向传播\n",
    "images = torch.randn(64, 3, 224, 224)\n",
    "outputs = resnet(images)\n",
    "print (outputs.size())     # (64, 100)"
   ]
  },
  {
   "cell_type": "markdown",
   "metadata": {},
   "source": [
    "## 保存和加载模型"
   ]
  },
  {
   "cell_type": "code",
   "execution_count": 12,
   "metadata": {},
   "outputs": [],
   "source": [
    "# 保存和加载整个模型\n",
    "torch.save(resnet, 'model.ckpt')\n",
    "model = torch.load('model.ckpt')\n",
    "\n",
    "# 仅保存和加载模型的参数（推荐这个方式）\n",
    "torch.save(resnet.state_dict(), 'params.ckpt')\n",
    "resnet.load_state_dict(torch.load('params.ckpt'))"
   ]
  }
 ],
 "metadata": {
  "kernelspec": {
   "display_name": "Python 3",
   "language": "python",
   "name": "python3"
  },
  "language_info": {
   "codemirror_mode": {
    "name": "ipython",
    "version": 3
   },
   "file_extension": ".py",
   "mimetype": "text/x-python",
   "name": "python",
   "nbconvert_exporter": "python",
   "pygments_lexer": "ipython3",
   "version": "3.6.5"
  }
 },
 "nbformat": 4,
 "nbformat_minor": 2
}
